{
 "cells": [
  {
   "cell_type": "code",
   "execution_count": 29,
   "metadata": {},
   "outputs": [],
   "source": [
    "import pytesseract\n",
    "from nltk.tokenize import word_tokenize"
   ]
  },
  {
   "cell_type": "code",
   "execution_count": 10,
   "metadata": {},
   "outputs": [],
   "source": [
    "import cv2\n",
    "from PIL import Image"
   ]
  },
  {
   "cell_type": "code",
   "execution_count": 13,
   "metadata": {},
   "outputs": [],
   "source": [
    "img = Image.open(r\"C:\\Users\\I324158\\OneDrive - SAP SE\\Desktop\\invoice_image.png\")\n",
    "#set the Tesseract  installed path\n",
    "pytesseract.pytesseract.tesseract_cmd = r'C:\\Program Files\\Tesseract-OCR\\tesseract.exe'"
   ]
  },
  {
   "cell_type": "code",
   "execution_count": 16,
   "metadata": {},
   "outputs": [],
   "source": [
    "text = pytesseract.image_to_string(img)"
   ]
  },
  {
   "cell_type": "code",
   "execution_count": 17,
   "metadata": {},
   "outputs": [
    {
     "data": {
      "text/plain": [
       "'DICEY STORES\\n\\n61 11th Street, Dodgeville\\nTel no. 061 333 9999\\n\\nTax invoice VAT No. 4423338888109\\n\\nMilk tart R17.99\\nApple crumble R29.99\\nCarrier bag 24L R 0.40\\nCarrier bag 24L R 0.40\\nMarshmallow 60G R 9.99\\nDairy custard 17.99\\nHot dog rolls 65\\nLemon biscuits 99\\nENT. bacon/egg LF\\n\\n0,458 kg @ R49.99/kg R22.90\\nSunflower oil 250ml R14.99\\nPopcorn 300g R 7.99\\nChicken-mayo sandwich R23.99\\nBrown bread seed R10.99\\nBrown bread loaf R 6.99\\nSauce Peri Peri R13.99\\n\\nR\\nR\\n\\nBalance due R193.24\\n\\nEFT credit card R193.24\\n\\nTAX-CODE TAXABLE TAX VALUE\\nZero VAT R32.97 RO.OO *\\nVAT R169.51 R23.73\\nTotal tax R23.73\\n\\nCHANGE RO.00'"
      ]
     },
     "execution_count": 17,
     "metadata": {},
     "output_type": "execute_result"
    }
   ],
   "source": [
    "text"
   ]
  },
  {
   "cell_type": "code",
   "execution_count": 38,
   "metadata": {},
   "outputs": [
    {
     "name": "stdout",
     "output_type": "stream",
     "text": [
      "['Milk', 'tart', 'R17.99']\n",
      "['Apple', 'crumble', 'R29.99']\n",
      "['Carrier', 'bag', '24L', 'R', '0.40']\n",
      "['Carrier', 'bag', '24L', 'R', '0.40']\n",
      "['Marshmallow', '60G', 'R', '9.99']\n",
      "['Dairy', 'custard', '17.99']\n",
      "['Hot', 'dog', 'rolls', '65']\n",
      "['Lemon', 'biscuits', '99']\n",
      "['ENT', '.', 'bacon/egg', 'LF']\n",
      "[]\n",
      "['0,458', 'kg', '@', 'R49.99/kg', 'R22.90']\n",
      "['Sunflower', 'oil', '250ml', 'R14.99']\n",
      "['Popcorn', '300g', 'R', '7.99']\n",
      "['Chicken-mayo', 'sandwich', 'R23.99']\n",
      "['Brown', 'bread', 'seed', 'R10.99']\n",
      "['Brown', 'bread', 'loaf', 'R', '6.99']\n",
      "['Sauce', 'Peri', 'Peri', 'R13.99']\n",
      "[]\n",
      "['R']\n",
      "['R']\n",
      "[]\n",
      "['Balance', 'due', 'R193.24']\n",
      "[]\n",
      "['EFT', 'credit', 'card', 'R193.24']\n",
      "[]\n",
      "['TAX-CODE', 'TAXABLE', 'TAX', 'VALUE']\n",
      "['Zero', 'VAT', 'R32.97', 'RO.OO', '*']\n",
      "['VAT', 'R169.51', 'R23.73']\n",
      "['Total', 'tax', 'R23.73']\n",
      "[]\n",
      "['CHANGE', 'RO.00']\n"
     ]
    }
   ],
   "source": [
    "# The image imvoice  has items from 7th line\n",
    "for i, j in enumerate(text.splitlines()):\n",
    "    if i>=7:\n",
    "#         print(j)\n",
    "        x = word_tokenize(j)\n",
    "#         print(x)\n",
    "        y = str(x)\n",
    "        print(y)\n",
    "        \n",
    "        \n",
    "        \n",
    "   \n",
    "    \n"
   ]
  },
  {
   "cell_type": "code",
   "execution_count": null,
   "metadata": {},
   "outputs": [],
   "source": []
  }
 ],
 "metadata": {
  "kernelspec": {
   "display_name": "Python 3",
   "language": "python",
   "name": "python3"
  },
  "language_info": {
   "codemirror_mode": {
    "name": "ipython",
    "version": 3
   },
   "file_extension": ".py",
   "mimetype": "text/x-python",
   "name": "python",
   "nbconvert_exporter": "python",
   "pygments_lexer": "ipython3",
   "version": "3.7.1"
  }
 },
 "nbformat": 4,
 "nbformat_minor": 2
}
