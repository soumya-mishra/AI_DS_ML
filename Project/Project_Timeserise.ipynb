{
 "cells": [
  {
   "cell_type": "code",
   "execution_count": 1,
   "metadata": {},
   "outputs": [],
   "source": [
    "import pandas as pd\n",
    "import numpy as np\n",
    "import seaborn as sns\n",
    "import warnings\n",
    "warnings.filterwarnings(\"ignore\")\n",
    "import matplotlib.pyplot as plt\n",
    "%matplotlib inline\n",
    "plt.style.use('fivethirtyeight')\n",
    "from statsmodels.tsa.stattools import adfuller\n",
    "from statsmodels.tsa.stattools import acf, pacf\n",
    "from statsmodels.tsa.seasonal import seasonal_decompose\n",
    "from statsmodels.tsa.arima_model import ARIMA"
   ]
  },
  {
   "cell_type": "code",
   "execution_count": 2,
   "metadata": {},
   "outputs": [],
   "source": [
    "filepath1 = r\"C:\\Users\\I324158\\OneDrive - SAP SE\\Machine Learning\\Dataset\\data\\relayr_Data Scientist_assigment\\predictors.csv\"\n",
    "filepath2 = r\"C:\\Users\\I324158\\OneDrive - SAP SE\\Machine Learning\\Dataset\\data\\relayr_Data Scientist_assigment\\labels.csv\""
   ]
  },
  {
   "cell_type": "code",
   "execution_count": 3,
   "metadata": {},
   "outputs": [
    {
     "name": "stdout",
     "output_type": "stream",
     "text": [
      "             DateTime\n",
      "0 2013-05-11 00:00:00\n",
      "1 2013-05-11 00:05:00\n",
      "2 2013-05-11 00:10:00\n",
      "3 2013-05-11 00:15:00\n",
      "4 2013-05-11 00:20:00\n"
     ]
    }
   ],
   "source": [
    "#Load the data from file\n",
    "class Load_Content:\n",
    "    def __init__(self,filepath1,filepath2):\n",
    "        self.path1 = filepath1\n",
    "        self.path2 = filepath2\n",
    "    def read_content(self):\n",
    "        df1 = pd.read_csv(self.path1)\n",
    "        df2 = pd.read_csv(self.path2)\n",
    "        df_raw = pd.merge(df1,df2,how='left',on='timestamp')\n",
    "        \n",
    "        return df_raw\n",
    "    def show_content(self):\n",
    "        print(df_raw.head())\n",
    "        print(df_raw.columns)\n",
    "        \n",
    "        \n",
    "lc = Load_Content(filepath1,filepath2)\n",
    "df_raw_data = lc.read_content()   \n",
    "df_raw_data.head()\n",
    "\n",
    "#convert timestamp to datetime format\n",
    "def convert_timestamp():\n",
    "    ds_convert = pd.to_datetime(df_raw_data['timestamp'], unit='s')\n",
    "    #convert to dataframe\n",
    "    df_convert = ds_convert.to_frame(name='DateTime')\n",
    "    print(df_convert.head())\n",
    "    return df_convert\n",
    "df_convert = convert_timestamp()    \n",
    "\n",
    "def combine_drop_date():\n",
    "    df_final = pd.concat([df_convert, df_raw_data],axis = 1)\n",
    "    df_final.drop(columns=['timestamp'],inplace=True)\n",
    "    return df_final\n",
    "#     print(df_final.head())\n",
    "\n",
    "df_final = combine_drop_date()\n",
    "\n",
    "def check_index_duplicates():\n",
    "    a = df_final['DateTime'].nunique()\n",
    "    b = len(df_final)\n",
    "    if a<b:\n",
    "        df_final.drop_duplicates(subset = ['DateTime'], keep =\"first\",inplace=True)\n",
    "    return df_final\n",
    "\n",
    "df_final = check_index_duplicates()"
   ]
  },
  {
   "cell_type": "code",
   "execution_count": 4,
   "metadata": {},
   "outputs": [
    {
     "data": {
      "text/plain": [
       "True"
      ]
     },
     "execution_count": 4,
     "metadata": {},
     "output_type": "execute_result"
    }
   ],
   "source": [
    "df_final['DateTime'].nunique()\n",
    "len(df_final)\n",
    "df_final['DateTime'].nunique() == len(df_final)"
   ]
  },
  {
   "cell_type": "code",
   "execution_count": 5,
   "metadata": {},
   "outputs": [
    {
     "name": "stdout",
     "output_type": "stream",
     "text": [
      "Percentage of Null values for column DateTime = 0.0\n",
      "Percentage of Null values for column f0 = 54.59117934706676\n",
      "Percentage of Null values for column f1 = 57.00855364267197\n",
      "Percentage of Null values for column f2 = 0.020181008118974806\n",
      "Percentage of Null values for column f3 = 0.020181008118974806\n",
      "Percentage of Null values for column f4 = 3.9430585093996924\n",
      "Percentage of Null values for column f5 = 1.5148175171150473\n",
      "Percentage of Null values for column f6 = 0.5852492354502694\n",
      "Percentage of Null values for column f7 = 93.97022525109831\n",
      "Percentage of Null values for column f8 = 2.0000931431143956\n",
      "Percentage of Null values for column f9 = 0.46695748016827854\n",
      "Percentage of Null values for column f10 = 68.58748467019575\n",
      "Percentage of Null values for column f11 = 0.020181008118974806\n",
      "Percentage of Null values for column f12 = 3.9405746930158183\n",
      "Percentage of Null values for column f13 = 0.021422916310911717\n",
      "Percentage of Null values for column f14 = 0.02359625564680131\n",
      "Percentage of Null values for column f15 = 0.020181008118974806\n",
      "Percentage of Null values for column f16 = 0.024527686790753993\n",
      "Percentage of Null values for column f17 = 0.02111243926292749\n",
      "Percentage of Null values for column f18 = 0.020181008118974806\n",
      "Percentage of Null values for column f19 = 0.021422916310911717\n",
      "Percentage of Null values for column f20 = 0.6849123678532064\n",
      "Percentage of Null values for column f21 = 0.022043870406880172\n",
      "Percentage of Null values for column f22 = 0.021422916310911717\n",
      "Percentage of Null values for column f23 = 0.024527686790753993\n",
      "Percentage of Null values for column f24 = 0.020181008118974806\n",
      "Percentage of Null values for column f25 = 0.09065929801139451\n",
      "Percentage of Null values for column f26 = 0.41603924429886524\n",
      "Percentage of Null values for column f27 = 0.020181008118974806\n",
      "Percentage of Null values for column f28 = 0.020181008118974806\n",
      "Percentage of Null values for column f29 = 0.03663629166213888\n",
      "Percentage of Null values for column f30 = 0.020181008118974806\n",
      "Percentage of Null values for column f31 = 0.020181008118974806\n",
      "Percentage of Null values for column f32 = 0.020181008118974806\n",
      "Percentage of Null values for column f33 = 0.020181008118974806\n",
      "Percentage of Null values for column f34 = 0.04191440147787075\n",
      "Percentage of Null values for column f35 = 0.037257245758107335\n",
      "Percentage of Null values for column f36 = 0.03632581461415465\n",
      "Percentage of Null values for column f37 = 0.020181008118974806\n",
      "Percentage of Null values for column f38 = 0.020181008118974806\n",
      "Percentage of Null values for column f39 = 0.020181008118974806\n",
      "Percentage of Null values for column f40 = 0.020181008118974806\n",
      "Percentage of Null values for column f41 = 0.03570486051818619\n",
      "Percentage of Null values for column f42 = 0.020181008118974806\n",
      "Percentage of Null values for column f43 = 0.020181008118974806\n",
      "Percentage of Null values for column f44 = 0.024217209742769766\n",
      "Percentage of Null values for column f45 = 0.02825341136656473\n",
      "Percentage of Null values for column f46 = 0.03756772280609156\n",
      "Percentage of Null values for column f47 = 0.020181008118974806\n",
      "Percentage of Null values for column f48 = 0.020181008118974806\n",
      "Percentage of Null values for column f49 = 0.020181008118974806\n",
      "Percentage of Null values for column f50 = 0.020181008118974806\n",
      "Percentage of Null values for column f51 = 0.06799447350854589\n",
      "Percentage of Null values for column f52 = 0.06985733579645124\n",
      "Percentage of Null values for column f53 = 0.052160144061350264\n",
      "Percentage of Null values for column f54 = 0.02887436546253318\n",
      "Percentage of Null values for column f55 = 0.04346678671779188\n",
      "Percentage of Null values for column f56 = 0.0447086949097288\n",
      "Percentage of Null values for column f57 = 0.027632457270596274\n",
      "Percentage of Null values for column f58 = 0.020181008118974806\n",
      "Percentage of Null values for column f59 = 0.02080196221494326\n",
      "Percentage of Null values for column f60 = 0.020181008118974806\n",
      "Percentage of Null values for column f61 = 100.0\n",
      "Percentage of Null values for column f62 = 0.03880963099802847\n",
      "Percentage of Null values for column f63 = 0.04005153918996538\n",
      "Percentage of Null values for column f64 = 0.020181008118974806\n",
      "Percentage of Null values for column f65 = 0.020181008118974806\n",
      "Percentage of Null values for column f66 = 0.043156309669807665\n",
      "Percentage of Null values for column f67 = 0.032289612990359685\n",
      "Percentage of Null values for column f68 = 0.02173339335889594\n",
      "Percentage of Null values for column f69 = 0.020181008118974806\n",
      "Percentage of Null values for column f70 = 0.05774873092506636\n",
      "Percentage of Null values for column f71 = 0.02049148516695903\n",
      "Percentage of Null values for column f72 = 0.020181008118974806\n",
      "Percentage of Null values for column f73 = 0.03291056708632814\n",
      "Percentage of Null values for column f74 = 0.18690718288650512\n",
      "Percentage of Null values for column f75 = 0.046571557197634166\n",
      "Percentage of Null values for column f76 = 0.020181008118974806\n",
      "Percentage of Null values for column f77 = 100.0\n",
      "Percentage of Null values for column f78 = 0.024217209742769766\n",
      "Percentage of Null values for column f79 = 0.1844233665026313\n",
      "Percentage of Null values for column f80 = 0.0\n",
      "Percentage of Null values for column f81 = 0.0\n",
      "Percentage of Null values for column f82 = 0.022975301550832855\n",
      "Percentage of Null values for column f83 = 68.02738407563221\n",
      "Percentage of Null values for column f84 = 6.044367170156946\n",
      "Percentage of Null values for column f85 = 44.26874893273515\n",
      "Percentage of Null values for column f86 = 31.043979073846966\n",
      "Percentage of Null values for column label = 99.84383004486394\n"
     ]
    }
   ],
   "source": [
    "#Check how many percentage of Null values on each columns\n",
    "def calculate_null():\n",
    "    columns = list(df_final.columns)\n",
    "    for col in columns:\n",
    "        nv = df_final[col].isna().sum()\n",
    "        print(\"Percentage of Null values for column {} = {}\".format(col,(nv/len(df_final))*100))\n",
    "\n",
    "calculate_null()"
   ]
  },
  {
   "cell_type": "code",
   "execution_count": 6,
   "metadata": {},
   "outputs": [],
   "source": [
    "#drop columns where columns has more than 30% NULL values except label\n",
    "def delete_nacolums():\n",
    "    df_final.drop(columns=['f61','f77','f0','f1','f7','f10','f83','f85','f86'],inplace=True)\n",
    "    return df_final\n",
    "\n",
    "df_final = delete_nacolums()"
   ]
  },
  {
   "cell_type": "code",
   "execution_count": 7,
   "metadata": {},
   "outputs": [],
   "source": [
    "# set datetime as index \n",
    "df_final.set_index('DateTime',inplace=True)"
   ]
  },
  {
   "cell_type": "code",
   "execution_count": 8,
   "metadata": {},
   "outputs": [
    {
     "data": {
      "text/plain": [
       "322085"
      ]
     },
     "execution_count": 8,
     "metadata": {},
     "output_type": "execute_result"
    }
   ],
   "source": [
    "len(list(df_final.index))"
   ]
  },
  {
   "cell_type": "code",
   "execution_count": 9,
   "metadata": {},
   "outputs": [],
   "source": [
    "# df_final.asfreq('5min').plot()"
   ]
  },
  {
   "cell_type": "code",
   "execution_count": 342,
   "metadata": {},
   "outputs": [],
   "source": [
    "# rolmean = df_final['label'].rolling('5min').mean()\n",
    "# rolstd = df_final['label'].rolling('5min').std()"
   ]
  },
  {
   "cell_type": "code",
   "execution_count": 343,
   "metadata": {},
   "outputs": [
    {
     "data": {
      "image/png": "[encoded data removed]",
      "text/plain": [
       "<Figure size 432x288 with 1 Axes>"
      ]
     },
     "metadata": {},
     "output_type": "display_data"
    }
   ],
   "source": [
    "# orig = plt.plot(df_final['label'], color='blue', label='Original')\n",
    "# mean = plt.plot(rolmean, color='red', label='Rolling Mean')\n",
    "# std = plt.plot(rolstd, color='black', label='Rolling Std')\n",
    "# plt.legend(loc='best')\n",
    "# plt.title('Rolling Mean & Standard Deviation')\n",
    "# plt.show(block=False)"
   ]
  },
  {
   "cell_type": "code",
   "execution_count": 299,
   "metadata": {},
   "outputs": [],
   "source": [
    "# fill NaN value\n",
    "from sklearn.experimental import enable_iterative_imputer\n",
    "from sklearn.impute import IterativeImputer\n",
    "# from sklearn.impute import KNNImputer\n",
    "# from sklearn.impute import SimpleImputer\n",
    "# # imp = SimpleImputer(missing_values=np.nan, strategy='mean')\n",
    "# # X_train_new = imp.fit_transform(X_train)\n",
    "# # X_test_new = imp.transform(X_test)\n",
    "\n",
    "imp = IterativeImputer(max_iter=10, random_state=0)\n",
    "np_II = imp.fit_transform(df_final)\n",
    "\n",
    "\n",
    "\n",
    "\n",
    "# # imputer = KNNImputer(n_neighbors=5, weights=\"uniform\")\n",
    "# # imputer.fit_transform(X_train)\n"
   ]
  },
  {
   "cell_type": "code",
   "execution_count": 348,
   "metadata": {},
   "outputs": [],
   "source": [
    "def rebuild_dataframe():\n",
    "    df_II_df = pd.DataFrame(np_II,index=df_final.index)\n",
    "    df_II_df.isna().sum()\n",
    "    df_II_df.head()\n",
    "    len(df_II_df)\n",
    "    return df_II_df\n",
    "\n",
    "df_II_df = rebuild_dataframe()"
   ]
  },
  {
   "cell_type": "code",
   "execution_count": 12,
   "metadata": {},
   "outputs": [],
   "source": [
    "path = r\"C:\\Users\\I324158\\OneDrive - SAP SE\\Machine Learning\\Dataset\\data\\clean.csv\"\n",
    "# df_II_df.to_csv(path)\n",
    "df_II_df= pd.read_csv(path)\n",
    "\n",
    "# df_II_df.set_index('DateTime',inplace=True)\n",
    "\n",
    "\n"
   ]
  },
  {
   "cell_type": "code",
   "execution_count": 393,
   "metadata": {},
   "outputs": [
    {
     "data": {
      "text/plain": [
       "79"
      ]
     },
     "execution_count": 393,
     "metadata": {},
     "output_type": "execute_result"
    }
   ],
   "source": [
    "len(df_II_df.columns.tolist())"
   ]
  },
  {
   "cell_type": "code",
   "execution_count": 390,
   "metadata": {},
   "outputs": [],
   "source": [
    "# plt.subplots(figsize=(30,25))\n",
    "# sns.heatmap(data=df_II_df.corr(),annot=True)\n",
    "# plt.show()\n",
    "# plt.gcf().clear()"
   ]
  },
  {
   "cell_type": "code",
   "execution_count": 391,
   "metadata": {},
   "outputs": [],
   "source": [
    "# df_II_df[0][:'2016'].plot(figsize=(16,4),legend=True)\n",
    "# df_II_df[1][:'2016'].plot(figsize=(16,4),legend=True)"
   ]
  },
  {
   "cell_type": "code",
   "execution_count": 392,
   "metadata": {
    "scrolled": true
   },
   "outputs": [],
   "source": [
    "# groups = [0, 1, 2, 3, 5, 6, 7]\n",
    "# i=1\n",
    "# values = df_final.values\n",
    "# plt.figure()\n",
    "# for group in groups:\n",
    "#     plt.subplot(len(groups), 1, i)\n",
    "#     plt.plot(values[:, group])\n",
    "#     plt.title(df_final.columns[group], y=0.5, loc='right')\n",
    "#     i += 1\n",
    "# plt.show()"
   ]
  },
  {
   "cell_type": "markdown",
   "metadata": {},
   "source": [
    "## Dimensionality Reduction \n",
    "* PCA\n",
    "* t-SNE\n",
    "* Autoencoder\n"
   ]
  },
  {
   "cell_type": "code",
   "execution_count": 15,
   "metadata": {},
   "outputs": [],
   "source": [
    "#do the scaling \n",
    "from sklearn.preprocessing import MinMaxScaler\n",
    "X = df_II_df.iloc[:,:78]\n",
    "y = df_II_df.iloc[:, 78:]\n",
    "len(X.columns.tolist())\n",
    "sc = MinMaxScaler(feature_range=(0,1))\n",
    "df_scaled = sc.fit_transform(X)\n",
    "\n",
    "df_scaled_y = sc.fit_transform(y)\n",
    "\n"
   ]
  },
  {
   "cell_type": "markdown",
   "metadata": {},
   "source": [
    "# PCA"
   ]
  },
  {
   "cell_type": "code",
   "execution_count": 16,
   "metadata": {},
   "outputs": [
    {
     "name": "stdout",
     "output_type": "stream",
     "text": [
      "[0.51364931 0.40077571 0.18371959 0.13697003 0.10758748]\n"
     ]
    }
   ],
   "source": [
    "from sklearn.decomposition import PCA\n",
    "from sklearn.manifold import TSNE\n",
    "def do_pca():\n",
    "    n_comp = 5\n",
    "    pca = PCA(n_components=n_comp,random_state=20)\n",
    "    df_pca = pca.fit_transform(df_scaled)\n",
    "    print(pca.explained_variance_)\n",
    "    return df_pca\n",
    "\n",
    "df_pca=do_pca()\n",
    "df_pca_tf = pd.DataFrame(df_pca,index=df_final.index)\n"
   ]
  },
  {
   "cell_type": "markdown",
   "metadata": {},
   "source": [
    "# T-SNE"
   ]
  },
  {
   "cell_type": "code",
   "execution_count": 423,
   "metadata": {},
   "outputs": [],
   "source": [
    "# X_embedded = TSNE(n_components=2).fit_transform(df_scaled)\n",
    "# X_embedded = pd.DataFrame(X_embedded)\n",
    "# X_embedded.head()"
   ]
  },
  {
   "cell_type": "markdown",
   "metadata": {},
   "source": [
    "# Autoencoder"
   ]
  },
  {
   "cell_type": "code",
   "execution_count": 428,
   "metadata": {},
   "outputs": [
    {
     "name": "stderr",
     "output_type": "stream",
     "text": [
      "Using TensorFlow backend.\n"
     ]
    }
   ],
   "source": [
    "from keras.layers import Input, Dense\n",
    "from keras.models import Model"
   ]
  },
  {
   "cell_type": "code",
   "execution_count": 430,
   "metadata": {},
   "outputs": [
    {
     "name": "stdout",
     "output_type": "stream",
     "text": [
      "_________________________________________________________________\n",
      "Layer (type)                 Output Shape              Param #   \n",
      "=================================================================\n",
      "input_2 (InputLayer)         (None, 78)                0         \n",
      "_________________________________________________________________\n",
      "dense_7 (Dense)              (None, 50)                3950      \n",
      "_________________________________________________________________\n",
      "dense_8 (Dense)              (None, 30)                1530      \n",
      "_________________________________________________________________\n",
      "dense_9 (Dense)              (None, 5)                 155       \n",
      "_________________________________________________________________\n",
      "dense_10 (Dense)             (None, 30)                180       \n",
      "_________________________________________________________________\n",
      "dense_11 (Dense)             (None, 50)                1550      \n",
      "_________________________________________________________________\n",
      "dense_12 (Dense)             (None, 78)                3978      \n",
      "=================================================================\n",
      "Total params: 11,343\n",
      "Trainable params: 11,343\n",
      "Non-trainable params: 0\n",
      "_________________________________________________________________\n",
      "WARNING:tensorflow:From C:\\Users\\I324158\\AppData\\Local\\Continuum\\anaconda3\\lib\\site-packages\\tensorflow\\python\\ops\\math_ops.py:3066: to_int32 (from tensorflow.python.ops.math_ops) is deprecated and will be removed in a future version.\n",
      "Instructions for updating:\n",
      "Use tf.cast instead.\n",
      "Train on 289876 samples, validate on 32209 samples\n",
      "Epoch 1/10\n",
      "289876/289876 [==============================] - 23s 81us/step - loss: 0.5369 - val_loss: 0.5291\n",
      "Epoch 2/10\n",
      "289876/289876 [==============================] - 25s 86us/step - loss: 0.5276 - val_loss: 0.5268\n",
      "Epoch 3/10\n",
      "289876/289876 [==============================] - 26s 90us/step - loss: 0.5262 - val_loss: 0.5258\n",
      "Epoch 4/10\n",
      "289876/289876 [==============================] - 25s 86us/step - loss: 0.5255 - val_loss: 0.5253\n",
      "Epoch 5/10\n",
      "289876/289876 [==============================] - 29s 99us/step - loss: 0.5251 - val_loss: 0.5249\n",
      "Epoch 6/10\n",
      "289876/289876 [==============================] - 25s 86us/step - loss: 0.5249 - val_loss: 0.5247\n",
      "Epoch 7/10\n",
      "289876/289876 [==============================] - 28s 95us/step - loss: 0.5246 - val_loss: 0.5244\n",
      "Epoch 8/10\n",
      "289876/289876 [==============================] - 28s 98us/step - loss: 0.5244 - val_loss: 0.5242\n",
      "Epoch 9/10\n",
      "289876/289876 [==============================] - 26s 91us/step - loss: 0.5241 - val_loss: 0.5240\n",
      "Epoch 10/10\n",
      "289876/289876 [==============================] - 25s 86us/step - loss: 0.5239 - val_loss: 0.5238\n"
     ]
    }
   ],
   "source": [
    "ncol = df_scaled.shape[1]\n",
    "X_train, X_test, Y_train, Y_test = train_test_split(df_scaled, df_scaled_y, train_size = 0.9, random_state = 20)\n",
    "encoding_dim = 5\n",
    "\n",
    "input_dim = Input(shape = (ncol, ))\n",
    "\n",
    "# # Encoder Layers\n",
    "encoded1 = Dense(50, activation = 'relu')(input_dim)\n",
    "encoded2 = Dense(30, activation = 'relu')(encoded1)\n",
    "encoded13 = Dense(encoding_dim, activation = 'relu')(encoded2) #5\n",
    "# Decoder Layers\n",
    "decoded1 = Dense(30, activation = 'relu')(encoded13)\n",
    "decoded2 = Dense(50, activation = 'relu')(decoded1)\n",
    "decoded13 = Dense(ncol, activation = 'sigmoid')(decoded2)\n",
    "\n",
    "# Combine Encoder and Deocder layers\n",
    "autoencoder = Model(inputs = input_dim, outputs = decoded13)\n",
    "\n",
    "# Compile the Model\n",
    "autoencoder.compile(optimizer = 'adadelta', loss = 'binary_crossentropy')\n",
    "\n",
    "autoencoder.summary()\n",
    "\n",
    "autoencoder.fit(X_train, X_train, nb_epoch = 10, batch_size = 32, shuffle = False, validation_data = (X_test, X_test))\n",
    "\n",
    "\n",
    "#Model for Encoder\n",
    "encoder = Model(inputs = input_dim, outputs = encoded13)\n",
    "\n",
    "#Model for decoder\n",
    "encoded_input = Input(shape = (encoding_dim, ))\n",
    "#Below 2 lines are not required as we are just reducing the dimension.\n",
    "# decoder_layer = autoencoder.layers[-1]\n",
    "# decoder = Model(encoded_input, decoder_layer(encoded_input))\n",
    "\n",
    "encoded_train = pd.DataFrame(encoder.predict(df_scaled))\n",
    "encoded_train = encoded_train.add_prefix('feature_')\n",
    "\n",
    "encoded_test = pd.DataFrame(encoder.predict(df_scaled))\n",
    "encoded_test = encoded_test.add_prefix('feature_')"
   ]
  },
  {
   "cell_type": "code",
   "execution_count": 442,
   "metadata": {},
   "outputs": [
    {
     "data": {
      "text/plain": [
       "322085"
      ]
     },
     "execution_count": 442,
     "metadata": {},
     "output_type": "execute_result"
    }
   ],
   "source": [
    "# plt.figure()\n",
    "# plt.plot(hist_auto.history['loss'])\n",
    "# plt.plot(hist_auto.history['val_loss'])\n",
    "# plt.title('Autoencoder model loss')\n",
    "# plt.ylabel('loss')\n",
    "# plt.xlabel('epoch')\n",
    "# plt.legend(['train', 'test'], loc='upper right')\n",
    "# plt.show()\n"
   ]
  },
  {
   "cell_type": "markdown",
   "metadata": {},
   "source": [
    "# Rolling window after scaling"
   ]
  },
  {
   "cell_type": "code",
   "execution_count": 21,
   "metadata": {},
   "outputs": [
    {
     "data": {
      "image/png": "[encoded data removed]",
      "text/plain": [
       "<Figure size 432x288 with 1 Axes>"
      ]
     },
     "metadata": {
      "needs_background": "light"
     },
     "output_type": "display_data"
    }
   ],
   "source": [
    "rolmean = df_pca_tf.rolling(window =12).mean() \n",
    "rolstd = df_pca_tf.rolling(window =12).std()\n",
    "\n",
    "#Plot roll statistics\n",
    "# orig = plt.plot(df_pca_tf, color='blue', label='Original')\n",
    "mean = plt.plot(rolmean, color='red', label='Rolling Mean')\n",
    "std = plt.plot(rolstd, color='black', label='Rolling Std')\n",
    "plt.legend(loc='best')\n",
    "plt.title('Rolling Mean & Standard Deviation')\n",
    "plt.show(block=False)"
   ]
  },
  {
   "cell_type": "markdown",
   "metadata": {},
   "source": [
    "# Results of Dickey Fuller Test"
   ]
  },
  {
   "cell_type": "code",
   "execution_count": 22,
   "metadata": {},
   "outputs": [
    {
     "name": "stdout",
     "output_type": "stream",
     "text": [
      "Results of Dickey Fuller Test:\n",
      "Test Statistic                    -29.316817\n",
      "p-value                             0.000000\n",
      "#Lags Used                         90.000000\n",
      "Number of Observations Used    321994.000000\n",
      "Critical Value (1%)                -3.430370\n",
      "Critical Value (5%)                -2.861549\n",
      "Critical Value (10%)               -2.566775\n",
      "dtype: float64\n"
     ]
    }
   ],
   "source": [
    "print('Results of Dickey Fuller Test:')\n",
    "dftest = adfuller(df_pca_tf[0], autolag='AIC')\n",
    "\n",
    "dfoutput = pd.Series(dftest[0:4], index=['Test Statistic','p-value','#Lags Used','Number of Observations Used'])\n",
    "for key,value in dftest[4].items():\n",
    "    dfoutput['Critical Value (%s)'%key] = value\n",
    "    \n",
    "print(dfoutput)"
   ]
  },
  {
   "cell_type": "markdown",
   "metadata": {},
   "source": [
    "# ACF & PACF plots "
   ]
  },
  {
   "cell_type": "code",
   "execution_count": 43,
   "metadata": {
    "scrolled": true
   },
   "outputs": [
    {
     "data": {
      "image/png": "[encoded data removed]",
      "text/plain": [
       "<Figure size 432x288 with 2 Axes>"
      ]
     },
     "metadata": {
      "needs_background": "light"
     },
     "output_type": "display_data"
    }
   ],
   "source": [
    "#ACF & PACF plots\n",
    "\n",
    "lag_acf = acf(df_pca_tf[0], nlags=20)\n",
    "lag_pacf = pacf(df_pca_tf[0], nlags=20, method='ols')\n",
    "\n",
    "#Plot ACF:\n",
    "plt.subplot(121)\n",
    "plt.plot(lag_acf)\n",
    "plt.axhline(y=0, linestyle='--', color='gray')\n",
    "plt.axhline(y=-1.96/np.sqrt(len(df_pca_tf)), linestyle='--', color='gray')\n",
    "plt.axhline(y=1.96/np.sqrt(len(df_pca_tf)), linestyle='--', color='gray')\n",
    "plt.title('Autocorrelation Function')            \n",
    "\n",
    "#Plot PACF\n",
    "plt.subplot(122)\n",
    "plt.plot(lag_pacf)\n",
    "plt.axhline(y=0, linestyle='--', color='gray')\n",
    "plt.axhline(y=-1.96/np.sqrt(len(df_pca_tf)), linestyle='--', color='gray')\n",
    "plt.axhline(y=1.96/np.sqrt(len(df_pca_tf)), linestyle='--', color='gray')\n",
    "plt.title('Partial Autocorrelation Function')\n",
    "            \n",
    "plt.tight_layout()            \n"
   ]
  },
  {
   "cell_type": "code",
   "execution_count": 46,
   "metadata": {},
   "outputs": [
    {
     "data": {
      "text/plain": [
       "[<matplotlib.lines.Line2D at 0x27056b2a048>]"
      ]
     },
     "execution_count": 46,
     "metadata": {},
     "output_type": "execute_result"
    },
    {
     "data": {
      "image/png": "[encoded data removed]",
      "text/plain": [
       "<Figure size 432x288 with 1 Axes>"
      ]
     },
     "metadata": {
      "needs_background": "light"
     },
     "output_type": "display_data"
    }
   ],
   "source": [
    "myarray = np.array(df_pca_tf.iloc[:100,0:1])\n",
    "type(myarray)\n",
    "# from statsmodels.tsa.ar_model import AR\n",
    "model = ARIMA(myarray,order=(2, 1, 2))  \n",
    "results_AR = model.fit(disp=-1)  \n",
    "\n",
    "plt.plot(myarray)\n",
    "plt.plot(results_AR.fittedvalues, color='red')\n",
    "\n",
    "# plt.title('RSS: %.4f'% sum((results_AR.fittedvalues-df_pca_tf)**2))"
   ]
  },
  {
   "cell_type": "code",
   "execution_count": 443,
   "metadata": {},
   "outputs": [],
   "source": [
    "import h2o"
   ]
  },
  {
   "cell_type": "code",
   "execution_count": 444,
   "metadata": {},
   "outputs": [],
   "source": [
    "from h2o.automl import H2OAutoML"
   ]
  },
  {
   "cell_type": "code",
   "execution_count": 445,
   "metadata": {},
   "outputs": [
    {
     "name": "stdout",
     "output_type": "stream",
     "text": [
      "Checking whether there is an H2O instance running at http://localhost:54321 ..... not found.\n",
      "Attempting to start a local H2O server...\n",
      "; Java HotSpot(TM) 64-Bit Server VM (build 25.231-b11, mixed mode)\n",
      "  Starting server from C:\\Users\\I324158\\AppData\\Local\\Continuum\\anaconda3\\lib\\site-packages\\h2o\\backend\\bin\\h2o.jar\n",
      "  Ice root: C:\\Users\\I324158\\AppData\\Local\\Temp\\tmpyixz1_9r\n",
      "  JVM stdout: C:\\Users\\I324158\\AppData\\Local\\Temp\\tmpyixz1_9r\\h2o_I324158_started_from_python.out\n",
      "  JVM stderr: C:\\Users\\I324158\\AppData\\Local\\Temp\\tmpyixz1_9r\\h2o_I324158_started_from_python.err\n",
      "  Server is running at http://127.0.0.1:54321\n",
      "Connecting to H2O server at http://127.0.0.1:54321 ... successful.\n"
     ]
    },
    {
     "data": {
      "text/html": [
       "<div style=\"overflow:auto\"><table style=\"width:50%\"><tr><td>H2O cluster uptime:</td>\n",
       "<td>07 secs</td></tr>\n",
       "<tr><td>H2O cluster timezone:</td>\n",
       "<td>Asia/Kolkata</td></tr>\n",
       "<tr><td>H2O data parsing timezone:</td>\n",
       "<td>UTC</td></tr>\n",
       "<tr><td>H2O cluster version:</td>\n",
       "<td>3.28.0.1</td></tr>\n",
       "<tr><td>H2O cluster version age:</td>\n",
       "<td>1 month and 5 days </td></tr>\n",
       "<tr><td>H2O cluster name:</td>\n",
       "<td>H2O_from_python_I324158_ml2dct</td></tr>\n",
       "<tr><td>H2O cluster total nodes:</td>\n",
       "<td>1</td></tr>\n",
       "<tr><td>H2O cluster free memory:</td>\n",
       "<td>3.521 Gb</td></tr>\n",
       "<tr><td>H2O cluster total cores:</td>\n",
       "<td>0</td></tr>\n",
       "<tr><td>H2O cluster allowed cores:</td>\n",
       "<td>0</td></tr>\n",
       "<tr><td>H2O cluster status:</td>\n",
       "<td>accepting new members, healthy</td></tr>\n",
       "<tr><td>H2O connection url:</td>\n",
       "<td>http://127.0.0.1:54321</td></tr>\n",
       "<tr><td>H2O connection proxy:</td>\n",
       "<td>{'http': None, 'https': None}</td></tr>\n",
       "<tr><td>H2O internal security:</td>\n",
       "<td>False</td></tr>\n",
       "<tr><td>H2O API Extensions:</td>\n",
       "<td>Amazon S3, Algos, AutoML, Core V3, TargetEncoder, Core V4</td></tr>\n",
       "<tr><td>Python version:</td>\n",
       "<td>3.7.1 final</td></tr></table></div>"
      ],
      "text/plain": [
       "--------------------------  ---------------------------------------------------------\n",
       "H2O cluster uptime:         07 secs\n",
       "H2O cluster timezone:       Asia/Kolkata\n",
       "H2O data parsing timezone:  UTC\n",
       "H2O cluster version:        3.28.0.1\n",
       "H2O cluster version age:    1 month and 5 days\n",
       "H2O cluster name:           H2O_from_python_I324158_ml2dct\n",
       "H2O cluster total nodes:    1\n",
       "H2O cluster free memory:    3.521 Gb\n",
       "H2O cluster total cores:    0\n",
       "H2O cluster allowed cores:  0\n",
       "H2O cluster status:         accepting new members, healthy\n",
       "H2O connection url:         http://127.0.0.1:54321\n",
       "H2O connection proxy:       {'http': None, 'https': None}\n",
       "H2O internal security:      False\n",
       "H2O API Extensions:         Amazon S3, Algos, AutoML, Core V3, TargetEncoder, Core V4\n",
       "Python version:             3.7.1 final\n",
       "--------------------------  ---------------------------------------------------------"
      ]
     },
     "metadata": {},
     "output_type": "display_data"
    }
   ],
   "source": [
    "h2o.init()"
   ]
  },
  {
   "cell_type": "code",
   "execution_count": 123,
   "metadata": {},
   "outputs": [],
   "source": [
    "# import os\n",
    "# file_path = r'C:\\Users\\I324158\\OneDrive - SAP SE\\Machine Learning\\Dataset\\data\\relayr_Data Scientist_assigment\\Combine.csv'"
   ]
  },
  {
   "cell_type": "code",
   "execution_count": 446,
   "metadata": {},
   "outputs": [
    {
     "name": "stdout",
     "output_type": "stream",
     "text": [
      "Parse progress: |█████████████████████████████████████████████████████████| 100%\n"
     ]
    }
   ],
   "source": [
    "# # df_data = h2o.import_file(file_path)\n",
    "# df_data = h2o.H2OFrame(df_II_df)"
   ]
  },
  {
   "cell_type": "code",
   "execution_count": 448,
   "metadata": {},
   "outputs": [
    {
     "name": "stdout",
     "output_type": "stream",
     "text": [
      "Rows:322086\n",
      "Cols:79\n",
      "\n",
      "\n"
     ]
    },
    {
     "data": {
      "text/html": [
       "<table>\n",
       "<thead>\n",
       "<tr><th>       </th><th>0                  </th><th>1                 </th><th>2                  </th><th>3                 </th><th>4                 </th><th>5                 </th><th>6                 </th><th>7                  </th><th>8                 </th><th>9                   </th><th>10                </th><th>11                </th><th>12                 </th><th>13                 </th><th>14                 </th><th>15                 </th><th>16                </th><th>17                 </th><th>18                </th><th>19                 </th><th>20                </th><th>21                </th><th>22                 </th><th>23                 </th><th>24               </th><th>25                 </th><th>26                 </th><th>27                  </th><th>28                </th><th>29                </th><th>30                </th><th>31                 </th><th>32                </th><th>33                </th><th>34                 </th><th>35                 </th><th>36                  </th><th>37                 </th><th>38                 </th><th>39                  </th><th>40                </th><th>41                </th><th>42                 </th><th>43                  </th><th>44                </th><th>45               </th><th>46                  </th><th>47                </th><th>48                </th><th>49                 </th><th>50                  </th><th>51                </th><th>52                 </th><th>53                </th><th>54                </th><th>55                  </th><th>56                 </th><th>57                 </th><th>58                </th><th>59                </th><th>60                </th><th>61                </th><th>62                </th><th>63                  </th><th>64                </th><th>65                </th><th>66                 </th><th>67                </th><th>68                </th><th>69                 </th><th>70                </th><th>71                </th><th>72                </th><th>73                 </th><th>74                 </th><th>75                 </th><th>76                   </th><th>77                 </th><th>78                 </th></tr>\n",
       "</thead>\n",
       "<tbody>\n",
       "<tr><td>type   </td><td>real               </td><td>real              </td><td>real               </td><td>real              </td><td>real              </td><td>real              </td><td>real              </td><td>real               </td><td>real              </td><td>real                </td><td>real              </td><td>real              </td><td>real               </td><td>real               </td><td>real               </td><td>real               </td><td>real              </td><td>real               </td><td>real              </td><td>real               </td><td>real              </td><td>real              </td><td>real               </td><td>real               </td><td>real             </td><td>real               </td><td>real               </td><td>real                </td><td>real              </td><td>real              </td><td>real              </td><td>real               </td><td>real              </td><td>real              </td><td>real               </td><td>real               </td><td>real                </td><td>real               </td><td>real               </td><td>real                </td><td>real              </td><td>real              </td><td>real               </td><td>real                </td><td>real              </td><td>real             </td><td>real                </td><td>real              </td><td>real              </td><td>real               </td><td>real                </td><td>real              </td><td>real               </td><td>real              </td><td>real              </td><td>real                </td><td>real               </td><td>real               </td><td>real              </td><td>real              </td><td>real              </td><td>real              </td><td>real              </td><td>real                </td><td>real              </td><td>real              </td><td>real               </td><td>real              </td><td>real              </td><td>real               </td><td>real              </td><td>real              </td><td>real              </td><td>real               </td><td>real               </td><td>real               </td><td>real                 </td><td>real               </td><td>real               </td></tr>\n",
       "<tr><td>mins   </td><td>-0.4763328415840572</td><td>31.28125063719003 </td><td>-14908.321686953306</td><td>3858.488805631112 </td><td>30.17547528689917 </td><td>-2476.808619217016</td><td>-2156.956016896293</td><td>-9829.72967593112  </td><td>-98908.77102478092</td><td>-3.950770451227748  </td><td>-67.86680841731379</td><td>24.39438904494793 </td><td>9484.063717147816  </td><td>-71.18090246495159 </td><td>0.29758424690875696</td><td>-4940.105065670798 </td><td>14328.908123207611</td><td>-157.92965861555876</td><td>-808.8263638029783</td><td>-9.661009894335194 </td><td>34992.8922922577  </td><td>93886.03267990769 </td><td>-132.93543314561248</td><td>-0.7116641020426173</td><td>7.385058578464746</td><td>-2441.9663819372654</td><td>-0.3146735300613609</td><td>-13.931277400057144 </td><td>4510.561772605361 </td><td>9.693918299033236 </td><td>812.7051530572385 </td><td>-6667.337029387635 </td><td>-4.284562795387087</td><td>982.7854960097686 </td><td>0.6593320611390061 </td><td>-0.1306332851197085</td><td>-715.5337176803972  </td><td>7187.7998418641    </td><td>10661.672965190415 </td><td>-0.28407804902073475</td><td>548.7559005015378 </td><td>-472.0769694801229</td><td>-40.494102309697965</td><td>-5.951299462640684  </td><td>-702.3071496854354</td><td>664.2668976893127</td><td>0.6715275452464595  </td><td>-89602.73147877636</td><td>-6.585313958020414</td><td>-416.73044560694944</td><td>2.2336346577558395  </td><td>424.02768807351305</td><td>0.09423008365348162</td><td>7628.455374913712 </td><td>0.9749825443699752</td><td>-4.505857302041084  </td><td>-0.9761846438582944</td><td>-39.96676044062985 </td><td>74.24669547083613 </td><td>-734.0832735131171</td><td>564.9378033225081 </td><td>385.15039772275816</td><td>-8.836137187361311</td><td>-2461.5222368223376 </td><td>-6.955299239615562</td><td>-914.8729767799376</td><td>-332.99938842732945</td><td>10225.167659174916</td><td>6.995417708733339 </td><td>-0.8331160413378191</td><td>-87.05807448404506</td><td>1.689063943054232 </td><td>-76.09385251672099</td><td>-499.1766077526666 </td><td>-92.40134808881372 </td><td>-99859.65157404152 </td><td>-0.059643873749204435</td><td>0.6078185476799263 </td><td>-356.60052458478424</td></tr>\n",
       "<tr><td>mean   </td><td>197.82145963018982 </td><td>32.08836771885973 </td><td>31188.493321659866 </td><td>3862.486362307335 </td><td>608.2550300002113 </td><td>6.789389336994984 </td><td>2131.7293043691147</td><td>-9829.61843399133  </td><td>-98893.33669654398</td><td>-0.17255481641027706</td><td>4093.9210563870156</td><td>26.739119277398583</td><td>9484.25410767514   </td><td>-60.24775025561675 </td><td>2185.535236718269  </td><td>-4939.8847734285855</td><td>14332.411398062251</td><td>63229.55026715005  </td><td>-746.9041594545117</td><td>-8.908487852988172 </td><td>34994.827207684044</td><td>93890.43123662219 </td><td>395.27707578194384 </td><td>5.241429907439366  </td><td>91.33041665398662</td><td>995.7139123833242  </td><td>700.6880254674118  </td><td>-13.84056770991339  </td><td>4514.7840387017495</td><td>13611.426413908515</td><td>5467.619029670599 </td><td>-6604.8276670142495</td><td>48092.16081851758 </td><td>1259.113606230055 </td><td>1.2340416499647888 </td><td>1.5761904033882548 </td><td>-715.5051551012931  </td><td>7188.337059255158  </td><td>10662.226830516247 </td><td>0.7738126239650192  </td><td>1903.626963208006 </td><td>4181.263543827483 </td><td>443.26047818176653 </td><td>-5.703819893280376  </td><td>-616.4565570409522</td><td>676.5459560214531</td><td>1.0319692011728605  </td><td>-89471.34445323297</td><td>2933.974969925798 </td><td>-415.97049352856925</td><td>2.301424884722916   </td><td>829.6421115962612 </td><td>0.20160987171833647</td><td>7974.393692208632 </td><td>1739.807265495123 </td><td>-4.378563193936122  </td><td>198.03825821202392 </td><td>-37.726002625060985</td><td>78.85751493604361 </td><td>-730.2592713991365</td><td>577.6824049335955 </td><td>389.61477407486734</td><td>-8.039799381973342</td><td>-2461.3557491857414 </td><td>34.431822004312416</td><td>1897.7064057022174</td><td>-329.9964137978571 </td><td>10288.482210392407</td><td>9.953517303538002 </td><td>1339.2776082948446 </td><td>64867.84562735845 </td><td>2507.798567047461 </td><td>4089.7428402896594</td><td>-483.3233988519064 </td><td>-92.02465107596197 </td><td>-99859.2260218842  </td><td>0.32425348807076637  </td><td>0.9179845197488598 </td><td>43.892483411385285 </td></tr>\n",
       "<tr><td>maxs   </td><td>436.0362037868612  </td><td>33.40977526603983 </td><td>78621.39042830115  </td><td>3867.615676730391 </td><td>1059.023137207143 </td><td>9255.390900470498 </td><td>13845.12202830174 </td><td>-9829.252284881706 </td><td>-98870.1497398047 </td><td>1.0088708805622404  </td><td>24539.734137571348</td><td>28.67866941219005 </td><td>9484.723683240603  </td><td>-53.54052024099679 </td><td>9657.534507591672  </td><td>-4939.821340957305 </td><td>14333.441930403083</td><td>87135.12707267003  </td><td>-731.3168477669929</td><td>-7.257050629833647 </td><td>34995.851188242625</td><td>93894.265167447   </td><td>926.1628749116874  </td><td>8.02983513041045   </td><td>396.6695868209615</td><td>1378.718798085645  </td><td>977.9442207902596  </td><td>-13.800140919404557 </td><td>4520.606518640329 </td><td>36569.70900387775 </td><td>11364.160781487744</td><td>-6594.993711835846 </td><td>69440.51963311693 </td><td>1457.1261946934503</td><td>1.596111852919099  </td><td>3.416797104173587  </td><td>-715.4744756658392  </td><td>7188.533549016205  </td><td>10662.266461176658 </td><td>4.035904958567866   </td><td>10366.869139423548</td><td>5546.6469561650565</td><td>731.7136010410808  </td><td>-5.597083743524719  </td><td>-605.4309375315245</td><td>690.8394024344362</td><td>1.4208667488171582  </td><td>-88751.09214141223</td><td>21925.772360837123</td><td>-415.7762351862252 </td><td>2.3354384023627004  </td><td>5584.380356515765 </td><td>3.943440473768956  </td><td>8541.811737525066 </td><td>59106.93891398918 </td><td>-3.5113451410862715 </td><td>826.5005645843381  </td><td>-33.4259820199093  </td><td>111.64743299321528</td><td>-726.6760776182372</td><td>589.3446716298972 </td><td>392.79533593828467</td><td>-7.241343993750456</td><td>-2461.1838665051505 </td><td>50.340282458518374</td><td>9871.076737096844 </td><td>-327.26372174918345</td><td>10316.590389880386</td><td>13.055516346546655</td><td>2123.0091620211133 </td><td>92865.92562437056 </td><td>9687.928800314718 </td><td>6920.088801164178 </td><td>-462.37886512180586</td><td>-90.29117577185887 </td><td>-99858.8825341624  </td><td>0.4722518835248151   </td><td>4.050563241718919  </td><td>158.32180851688096 </td></tr>\n",
       "<tr><td>sigma  </td><td>71.35431605016964  </td><td>0.3020751946652513</td><td>29844.1853283686   </td><td>0.7686405192719162</td><td>112.72285794024592</td><td>185.8267867195424 </td><td>1292.5969171603645</td><td>0.11170043870866626</td><td>10.78321764708244 </td><td>0.43978370199651695 </td><td>4719.793928170304 </td><td>0.3498607368077199</td><td>0.05662376987900418</td><td>2.69366809940034   </td><td>592.4137959673822  </td><td>0.03774293519439909</td><td>0.5229294352194201</td><td>11565.519979420278 </td><td>11.509652331286654</td><td>0.08904870020147501</td><td>0.2079592812365959</td><td>0.4566269679778669</td><td>148.63751580665368 </td><td>1.9013268476762717 </td><td>6.595371294494402</td><td>276.8988617752274  </td><td>129.85935778979797 </td><td>0.008328488831031157</td><td>0.9957714669031331</td><td>4661.946896232873 </td><td>1637.872483704221 </td><td>12.024540579722087 </td><td>6223.096200463295 </td><td>45.5293753648941  </td><td>0.07412725449280139</td><td>0.5896082776124189 </td><td>0.004340297413523588</td><td>0.07640847372694555</td><td>0.04748861346853261</td><td>0.6489185041262886  </td><td>1822.0303213760315</td><td>739.8225318636111 </td><td>56.641977920315945 </td><td>0.029667145925812544</td><td>9.572812199079031 </td><td>4.260915113916889</td><td>0.052119021213883905</td><td>150.64733270818192</td><td>4135.388534729266 </td><td>0.1667670806765853 </td><td>0.007945790227390384</td><td>652.4977588034656 </td><td>0.03463681916042643</td><td>135.56773941426266</td><td>2859.096658896281 </td><td>0.058053633562058136</td><td>87.03043274672999  </td><td>1.1283206280130704 </td><td>1.3789084657589437</td><td>1.0454883858535635</td><td>3.4468002749202484</td><td>0.3456833777912414</td><td>0.1314680812388451</td><td>0.021985303733045296</td><td>12.064946336044411</td><td>3290.5990489215305</td><td>1.9232622719159511 </td><td>16.653356243304533</td><td>1.7044697913315356</td><td>310.6749422916673  </td><td>18111.199177624017</td><td>795.6525982245806 </td><td>1224.2543276829565</td><td>5.320259072060004  </td><td>0.11402806670121682</td><td>0.35350059475452345</td><td>0.06987385001885224  </td><td>0.12458866493582371</td><td>62.076365201279394 </td></tr>\n",
       "<tr><td>zeros  </td><td>0                  </td><td>0                 </td><td>0                  </td><td>0                 </td><td>0                 </td><td>0                 </td><td>0                 </td><td>0                  </td><td>0                 </td><td>0                   </td><td>0                 </td><td>0                 </td><td>0                  </td><td>0                  </td><td>0                  </td><td>0                  </td><td>0                 </td><td>0                  </td><td>0                 </td><td>0                  </td><td>0                 </td><td>0                 </td><td>0                  </td><td>0                  </td><td>0                </td><td>0                  </td><td>0                  </td><td>0                   </td><td>0                 </td><td>0                 </td><td>0                 </td><td>0                  </td><td>0                 </td><td>0                 </td><td>0                  </td><td>0                  </td><td>0                   </td><td>0                  </td><td>0                  </td><td>0                   </td><td>0                 </td><td>0                 </td><td>0                  </td><td>0                   </td><td>0                 </td><td>0                </td><td>0                   </td><td>0                 </td><td>0                 </td><td>0                  </td><td>0                   </td><td>0                 </td><td>0                  </td><td>0                 </td><td>0                 </td><td>0                   </td><td>0                  </td><td>0                  </td><td>0                 </td><td>0                 </td><td>0                 </td><td>0                 </td><td>0                 </td><td>0                   </td><td>0                 </td><td>0                 </td><td>0                  </td><td>0                 </td><td>0                 </td><td>0                  </td><td>0                 </td><td>0                 </td><td>0                 </td><td>0                  </td><td>0                  </td><td>0                  </td><td>0                    </td><td>0                  </td><td>0                  </td></tr>\n",
       "<tr><td>missing</td><td>0                  </td><td>0                 </td><td>0                  </td><td>0                 </td><td>0                 </td><td>0                 </td><td>0                 </td><td>0                  </td><td>0                 </td><td>0                   </td><td>0                 </td><td>0                 </td><td>0                  </td><td>0                  </td><td>0                  </td><td>0                  </td><td>0                 </td><td>0                  </td><td>0                 </td><td>0                  </td><td>0                 </td><td>0                 </td><td>0                  </td><td>0                  </td><td>0                </td><td>0                  </td><td>0                  </td><td>0                   </td><td>0                 </td><td>0                 </td><td>0                 </td><td>0                  </td><td>0                 </td><td>0                 </td><td>0                  </td><td>0                  </td><td>0                   </td><td>0                  </td><td>0                  </td><td>0                   </td><td>0                 </td><td>0                 </td><td>0                  </td><td>0                   </td><td>0                 </td><td>0                </td><td>0                   </td><td>0                 </td><td>0                 </td><td>0                  </td><td>0                   </td><td>0                 </td><td>0                  </td><td>0                 </td><td>0                 </td><td>0                   </td><td>0                  </td><td>0                  </td><td>0                 </td><td>0                 </td><td>0                 </td><td>0                 </td><td>0                 </td><td>0                   </td><td>0                 </td><td>0                 </td><td>0                  </td><td>0                 </td><td>0                 </td><td>0                  </td><td>0                 </td><td>0                 </td><td>0                 </td><td>0                  </td><td>0                  </td><td>0                  </td><td>0                    </td><td>0                  </td><td>0                  </td></tr>\n",
       "<tr><td>0      </td><td>136.215523412688   </td><td>32.319559374670035</td><td>58304.649508770315 </td><td>3862.9573507733217</td><td>577.3011289937339 </td><td>2.406312294021046 </td><td>2829.1161429128333</td><td>-9829.72967593112  </td><td>-98884.16802141226</td><td>-0.5890574022643689 </td><td>1894.7693701263024</td><td>26.51811154164377 </td><td>9484.26317982316   </td><td>-60.925341585205075</td><td>2181.2190629163433 </td><td>-4939.917705758235 </td><td>14331.941122144495</td><td>51027.30471760356  </td><td>-746.9964408287249</td><td>-8.880965996668932 </td><td>34994.87035980709 </td><td>93890.41612516012 </td><td>320.08687040614507 </td><td>3.7796063531343536 </td><td>87.40115420746399</td><td>931.2595008337984  </td><td>570.7582980056811  </td><td>-13.83920637055098  </td><td>4514.293632691854 </td><td>11186.576585627825</td><td>4608.541822059116 </td><td>-6605.7705436048145</td><td>47704.56805583672 </td><td>1250.0516606370363</td><td>1.2479235795848391 </td><td>0.8737217396397341 </td><td>-715.5054523479557  </td><td>7188.331993411879  </td><td>10662.226830001004 </td><td>0.5449933029955485  </td><td>1335.432168595141 </td><td>4103.91838775292  </td><td>450.70072450586486 </td><td>-5.703589879165081  </td><td>-616.378196312028 </td><td>682.0077567964578</td><td>1.0301221660332889  </td><td>-89504.99609162383</td><td>1715.962484220188 </td><td>-415.9971399412898 </td><td>2.29767966923855    </td><td>584.0782159069614 </td><td>0.22160930302577989</td><td>7902.358404229906 </td><td>1190.511515739223 </td><td>-4.394297640719579  </td><td>175.5105956353607  </td><td>-38.54350530468373 </td><td>78.9808012962498  </td><td>-730.0286012629635</td><td>578.3947317985893 </td><td>389.56710826869096</td><td>-8.021621169276562</td><td>-2461.360684952711  </td><td>34.25448347652678 </td><td>7786.2377126273905</td><td>-332.9989577390669 </td><td>10264.441947133244</td><td>7.871516714249632 </td><td>1440.4529670737768 </td><td>43312.86848350673 </td><td>1299.060949257621 </td><td>3772.616097159619 </td><td>-486.5199002804212 </td><td>-92.26481790720938 </td><td>-99859.65157404152 </td><td>0.25607162955640284  </td><td>0.819971349434806  </td><td>46.28501889551066  </td></tr>\n",
       "<tr><td>1      </td><td>136.83253216179628 </td><td>32.2202041905544  </td><td>58109.15072328877  </td><td>3863.032550263401 </td><td>587.1714084419972 </td><td>2.400126857331529 </td><td>2819.2448949109253</td><td>-9829.72967593112  </td><td>-98884.28176324868</td><td>-0.5840380438668187 </td><td>1955.4343305702469</td><td>26.49504855857388 </td><td>9484.263147808622  </td><td>-61.023087349616965</td><td>2179.3525598010274 </td><td>-4939.917498103593 </td><td>14331.943024568856</td><td>51031.92696049472  </td><td>-746.9928087169378</td><td>-8.880746849656909 </td><td>34994.8740674343  </td><td>93890.41219439518 </td><td>325.71877630761037 </td><td>3.7858840124936655 </td><td>86.99724468107057</td><td>931.2995493969464  </td><td>570.8216665698146  </td><td>-13.839211310770352 </td><td>4514.295054675686 </td><td>11227.598894509209</td><td>4608.316784777709 </td><td>-6605.771336583616 </td><td>47707.24321119825 </td><td>1250.8920792038311</td><td>1.2480578270013278 </td><td>0.8600856290870262 </td><td>-715.50535203073    </td><td>7188.331995556478  </td><td>10662.226774502453 </td><td>0.541763554139546   </td><td>1335.486854218333 </td><td>4103.8601648114145</td><td>450.689271964705   </td><td>-5.702680221587437  </td><td>-616.3379922117767</td><td>682.0973492972022</td><td>1.0303313306549546  </td><td>-89505.02507435235</td><td>1715.568832048051 </td><td>-415.99710419405744</td><td>2.2976745151445312  </td><td>584.5927247378842 </td><td>0.22160930302577989</td><td>7902.003827691179 </td><td>1607.5387253308884</td><td>-4.390262252882089  </td><td>181.6925817551566  </td><td>-38.445642764456785</td><td>78.97695561435566 </td><td>-730.0331251605214</td><td>578.3779918682151 </td><td>389.5656293173267 </td><td>-8.019882888771555</td><td>-2461.360684543658  </td><td>34.324979917319986</td><td>7773.969104074366 </td><td>-332.99895671415885</td><td>10264.606296466383</td><td>7.870792290486597 </td><td>1440.6716060711658 </td><td>43365.76977126889 </td><td>1296.8785582532296</td><td>3779.875727283943 </td><td>-486.5484632866256 </td><td>-92.26475684653342 </td><td>-99859.65157323184 </td><td>0.2562030048372308   </td><td>0.8294179109677275 </td><td>46.356366286539014 </td></tr>\n",
       "<tr><td>2      </td><td>136.6826302301107  </td><td>32.31936564932769 </td><td>58204.43096614727  </td><td>3863.0069151906855</td><td>580.0314439549173 </td><td>2.393941420642016 </td><td>2823.6986760174213</td><td>-9829.72967593112  </td><td>-98884.26135981742</td><td>-0.5886675284773517 </td><td>1920.3143151630145</td><td>26.509006910961514</td><td>9484.263115794083  </td><td>-61.10227571417379 </td><td>2179.553435368688  </td><td>-4939.917035484757 </td><td>14331.944114081984</td><td>51077.19739522461  </td><td>-746.9891766051511</td><td>-8.880527702644887 </td><td>34994.879633317345</td><td>93890.40869505524 </td><td>323.6341729336226  </td><td>3.7826249167544295 </td><td>87.4521396072582 </td><td>931.3395979600936  </td><td>572.0937590264692  </td><td>-13.839107095597909 </td><td>4514.304522717151 </td><td>11244.11737890947 </td><td>4608.091747496299 </td><td>-6605.772129562417 </td><td>47709.91836655977 </td><td>1251.1613287031505</td><td>1.2480629700016093 </td><td>0.8164366928299536 </td><td>-715.5051720878496  </td><td>7188.331997701077  </td><td>10662.227209221595 </td><td>0.5430780419652654  </td><td>1335.541539841524 </td><td>4103.8019418699105</td><td>450.6778194235453  </td><td>-5.70242903078804   </td><td>-616.2569501851506</td><td>682.0782079905615</td><td>1.0297428222902256  </td><td>-89505.05405708088</td><td>1715.1751798759146</td><td>-415.9970684468251 </td><td>2.2976693610505117  </td><td>584.6296284240053 </td><td>0.22160930302577989</td><td>7902.204739155772 </td><td>1724.5753534875266</td><td>-4.38628152046285   </td><td>187.7890679451528  </td><td>-38.36268770373086 </td><td>78.98409665319994 </td><td>-730.0292547054596</td><td>578.3777321181735 </td><td>389.5633674318026 </td><td>-8.018144147653258</td><td>-2461.360684134605  </td><td>34.28062308131376 </td><td>7764.031733858911 </td><td>-332.99895568925086</td><td>10264.12408296266 </td><td>7.871000620048027 </td><td>1440.8902450685569 </td><td>43152.2103970012  </td><td>1301.101306008339 </td><td>3787.1353574082696</td><td>-486.4519386969145 </td><td>-92.26469578585746 </td><td>-99859.65157242215 </td><td>0.2563646934148943   </td><td>0.8365908467135945 </td><td>46.32777710658655  </td></tr>\n",
       "<tr><td>3      </td><td>136.3705845783787  </td><td>32.263048766299505</td><td>58404.221666542864 </td><td>3862.978812822225 </td><td>582.0513150945219 </td><td>2.3877559839525   </td><td>2830.8575360093896</td><td>-9829.72967593112  </td><td>-98884.10493866434</td><td>-0.5873765948915648 </td><td>1868.0961340566523</td><td>26.518549365919036</td><td>9484.26308377955   </td><td>-61.22545820557272 </td><td>2179.60227024846   </td><td>-4939.91722661248  </td><td>14331.942311979636</td><td>51108.38458483897  </td><td>-746.9855444933639</td><td>-8.880308555632864 </td><td>34994.87792022532 </td><td>93890.41572138602 </td><td>327.4464723228853  </td><td>3.786866483237593  </td><td>87.44063575158535</td><td>931.3796465232408  </td><td>571.4246517991647  </td><td>-13.839016993545798 </td><td>4514.30793938408  </td><td>11196.425125803617</td><td>4607.86671021489  </td><td>-6605.772922541219 </td><td>47712.5935219213  </td><td>1250.1557512331162</td><td>1.2495100035511864 </td><td>0.8192197052084003 </td><td>-715.5058721496528  </td><td>7188.331999845676  </td><td>10662.227651281157 </td><td>0.5449626946537622  </td><td>1335.5962254647156</td><td>4103.7437189284055</td><td>450.66636688238566 </td><td>-5.702946544266563  </td><td>-616.3027196157178</td><td>682.0975314140159</td><td>1.0302905073664117  </td><td>-89505.08303980941</td><td>1714.7815277037778</td><td>-415.9970326995928 </td><td>2.297664206956493   </td><td>653.0190340123927 </td><td>0.22160930302577989</td><td>7901.757211132573 </td><td>2306.494734890424 </td><td>-4.3842733773207145 </td><td>190.76059139285857 </td><td>-38.31787851846322 </td><td>78.98480393116489 </td><td>-730.0244728698267</td><td>578.3941168236522 </td><td>389.56110554627855</td><td>-8.016405406534961</td><td>-2461.3606837255525 </td><td>34.272383795758316</td><td>7782.172712052047 </td><td>-332.99895466434293</td><td>10263.855452197442</td><td>7.863181653593362 </td><td>1441.7248052407767 </td><td>43337.44314691619 </td><td>1301.1630459484147</td><td>3797.307109619475 </td><td>-486.4432852835204 </td><td>-92.26463472518152 </td><td>-99859.65157161248 </td><td>0.25619892818794154  </td><td>0.8245579581863798 </td><td>46.15537818305066  </td></tr>\n",
       "<tr><td>4      </td><td>137.17550687311996 </td><td>32.19551723165065 </td><td>58086.71807734866  </td><td>3863.090875483993 </td><td>588.7791526474863 </td><td>2.3815705472629847</td><td>2850.574026118723 </td><td>-9829.72967593112  </td><td>-98884.24415388546</td><td>-0.5946284976077845 </td><td>2210.846975371664 </td><td>26.490266453539057</td><td>9484.263051765012  </td><td>-61.178382922893114</td><td>2178.6281717315355 </td><td>-4939.917489024935 </td><td>14331.941825939157</td><td>50959.58633747429  </td><td>-746.9819123815771</td><td>-8.880089408620842 </td><td>34994.87836453298 </td><td>93890.4190137705  </td><td>328.1759094152468  </td><td>3.786975518259749  </td><td>87.55201741107021</td><td>931.4196950863897  </td><td>570.3364842583719  </td><td>-13.839074697641164 </td><td>4514.3158031507155</td><td>11273.909278846324</td><td>4607.641672933481 </td><td>-6605.773715520018 </td><td>47715.26867728281 </td><td>1251.8860807356054</td><td>1.2491105710517432 </td><td>0.7963792126260525 </td><td>-715.504941747688   </td><td>7188.332001990276  </td><td>10662.22707314486  </td><td>0.5446577531774683  </td><td>1335.6509110879065</td><td>4103.6854959869015</td><td>450.6549143412257  </td><td>-5.702355309553362  </td><td>-616.3675927216619</td><td>682.0837135272927</td><td>1.0306514408312095  </td><td>-89505.11202253793</td><td>1714.387875531641 </td><td>-415.9969969523604 </td><td>2.2976590528624747  </td><td>1248.7556864892329</td><td>0.22160930302577989</td><td>7901.999637640472 </td><td>1398.0310747895317</td><td>-4.383329600540706  </td><td>192.2450484686952  </td><td>-38.30035130138656 </td><td>78.98050557377655 </td><td>-730.0306358714563</td><td>578.3931176623197 </td><td>389.55884366075446</td><td>-8.014666665416664</td><td>-2461.3606833165    </td><td>34.404971407219485</td><td>7774.784379772278 </td><td>-332.99895363943494</td><td>10264.1486763414  </td><td>7.878417024215041 </td><td>1446.504875216815  </td><td>43459.995275813046</td><td>1292.9585229480842</td><td>3813.852697462106 </td><td>-486.49742513232246</td><td>-92.26457366450552 </td><td>-99859.6515708028  </td><td>0.2558750367132657   </td><td>0.8678153865377474 </td><td>47.35134863525161  </td></tr>\n",
       "<tr><td>5      </td><td>135.85763582076626 </td><td>32.3459993377351  </td><td>58304.788179440206 </td><td>3862.877347566672 </td><td>570.2246180941169 </td><td>2.3753851105734696</td><td>2843.9630310757025</td><td>-9829.72967593112  </td><td>-98884.18760332504</td><td>-0.5715087227016831 </td><td>1951.6502444016712</td><td>26.516702499726964</td><td>9484.26301951866   </td><td>-61.39702694263878 </td><td>2179.281875018505  </td><td>-4939.9174638609165</td><td>14331.943056089194</td><td>51028.2930354107   </td><td>-746.97828026979  </td><td>-8.879870261608819 </td><td>34994.879435887655</td><td>93890.41490109972 </td><td>329.4494921980558  </td><td>3.788606325544713  </td><td>87.3830774100412 </td><td>931.459743649537   </td><td>571.7465533500268  </td><td>-13.83901084861882  </td><td>4514.310006901763 </td><td>11233.921920135865</td><td>4607.416635652073 </td><td>-6605.774508498821 </td><td>47717.94383264435 </td><td>1251.6085886596015</td><td>1.2489383497707536 </td><td>0.7820777983203857 </td><td>-715.5053390178816  </td><td>7188.332004134874  </td><td>10662.227393962345 </td><td>0.5452959315927459  </td><td>1335.7055967110978</td><td>4103.627273045398 </td><td>450.643461800066   </td><td>-5.702211429398417  </td><td>-616.2313509394226</td><td>682.1898473283165</td><td>1.02855958456423    </td><td>-89505.14100526649</td><td>1713.9942233595043</td><td>-415.9969612051281 </td><td>2.297653898768456   </td><td>592.466411128205  </td><td>0.22160930302577989</td><td>7901.665118742191 </td><td>1922.8265443435464</td><td>-4.383803981092424  </td><td>191.67018704819915 </td><td>-38.30245909241803 </td><td>78.98256671218199 </td><td>-730.0320638986757</td><td>578.3617341078009 </td><td>389.5565817752304 </td><td>-8.012927924298367</td><td>-2461.360682907447  </td><td>34.41458159573412 </td><td>7774.873223017792 </td><td>-332.99895261452696</td><td>10264.268769005314</td><td>7.880948339937259 </td><td>1449.410262138235  </td><td>43505.53861383224 </td><td>1266.9954712484328</td><td>3802.8255308199737</td><td>-486.47664683804015</td><td>-92.26451260382956 </td><td>-99859.65156999306 </td><td>0.2563812242805429   </td><td>0.8191648696256973 </td><td>46.250860821766906 </td></tr>\n",
       "<tr><td>6      </td><td>136.26160085773128 </td><td>32.29148230079072 </td><td>58201.02912667545  </td><td>3862.937492613918 </td><td>575.4595706802182 </td><td>2.3691996738839536</td><td>2835.953755897869 </td><td>-9829.72967593112  </td><td>-98884.28757354048</td><td>-0.590092005894558  </td><td>1944.511882582582 </td><td>26.505072722093185</td><td>9484.262986767142  </td><td>-61.48074678459164 </td><td>2178.3382411844896 </td><td>-4939.917387614815 </td><td>14331.944137960734</td><td>51113.28545363018  </td><td>-746.9746481580031</td><td>-8.879651114596797 </td><td>34994.881306287796</td><td>93890.41440046736 </td><td>325.65733982142575 </td><td>3.7858558531420328 </td><td>87.15352502750446</td><td>931.4997922126836  </td><td>572.2548566717587  </td><td>-13.838892025761044 </td><td>4514.327454929743 </td><td>11247.746054151756</td><td>4607.191598370664 </td><td>-6605.775301477621 </td><td>47720.61898800587 </td><td>1252.0216927004662</td><td>1.2498387174319023 </td><td>0.7789040428621326 </td><td>-715.5054693267497  </td><td>7188.332006279474  </td><td>10662.227597919984 </td><td>0.5472234568063362  </td><td>1335.7602823342895</td><td>4103.5690501038935</td><td>450.63200925890624 </td><td>-5.7015783588062146 </td><td>-616.3783064533468</td><td>682.2117689734248</td><td>1.0299946212776183  </td><td>-89505.169987995  </td><td>1713.6005711873674</td><td>-415.99692545789566</td><td>2.297648744674437   </td><td>590.6048923727957 </td><td>0.22160930302577989</td><td>7901.614652188913 </td><td>1626.9219440989768</td><td>-4.3859229306988725 </td><td>188.31429424772492 </td><td>-38.35698883004473 </td><td>78.98212165586655 </td><td>-730.0285947483377</td><td>578.3729951734023 </td><td>389.55431988970633</td><td>-8.01118918318007 </td><td>-2461.3606824983945 </td><td>34.366651945019115</td><td>7779.7667749915345</td><td>-332.99895158961897</td><td>10264.387979344843</td><td>7.895563998317822 </td><td>1446.7027077279429 </td><td>43417.926435812704</td><td>1288.68574012595  </td><td>3791.6922031134422</td><td>-486.4976717414546 </td><td>-92.2644515431536  </td><td>-99859.6515691834  </td><td>0.2566853342019724   </td><td>0.8213753577627684 </td><td>46.41198121023481  </td></tr>\n",
       "<tr><td>7      </td><td>136.71233411204236 </td><td>32.26095431407428 </td><td>57961.28693276862  </td><td>3862.9690072005537</td><td>579.3509745458067 </td><td>2.363014237194438 </td><td>2813.263480611712 </td><td>-9829.72967593112  </td><td>-98884.26239045968</td><td>-0.5896110909211774 </td><td>1988.1563292255848</td><td>26.48962129447527 </td><td>9484.262953997995  </td><td>-61.561065515678294</td><td>2179.240297158856  </td><td>-4939.917311368713 </td><td>14331.945376164971</td><td>51117.44243133977  </td><td>-746.9710160462163</td><td>-8.879477611736846 </td><td>34994.8847455098  </td><td>93890.41393536476 </td><td>333.8216256041941  </td><td>3.788819133144308  </td><td>87.48515323547768</td><td>931.5398407758316  </td><td>571.5696460972216  </td><td>-13.83882279128566  </td><td>4514.325195638193 </td><td>11257.547717650914</td><td>4606.966561089254 </td><td>-6605.7760944564225</td><td>47723.29414336737 </td><td>1251.4341840205525</td><td>1.2506786546453477 </td><td>0.7491902559587902 </td><td>-715.5051849122614  </td><td>7188.332008042521  </td><td>10662.22749769216  </td><td>0.5443746851823004  </td><td>1335.8149679574806</td><td>4103.5108271623885</td><td>450.6205567177465  </td><td>-5.701506360649012  </td><td>-616.2226597255293</td><td>682.302237044872 </td><td>1.0312822483449269  </td><td>-89505.19897072352</td><td>1713.2069190152313</td><td>-415.9968897106633 </td><td>2.2976435905804182  </td><td>588.4644129345846 </td><td>0.22160930302577989</td><td>7901.517196089674 </td><td>1527.8381081481753</td><td>-4.389756024767226  </td><td>182.52759657856265 </td><td>-38.44310676123145 </td><td>78.98256415838304 </td><td>-730.0250849683962</td><td>578.3900328080676 </td><td>389.5520580041823 </td><td>-8.009450442061773</td><td>-2461.360682089341  </td><td>34.29295847986218 </td><td>7772.842492931213 </td><td>-332.998950564711  </td><td>10265.019142494231</td><td>7.895868427260443 </td><td>1443.7992675252094 </td><td>43302.929608840015</td><td>1299.8542133515366</td><td>3791.4048771626617</td><td>-486.3646825957094 </td><td>-92.26439048247762 </td><td>-99859.65156837372 </td><td>0.25683045398041066  </td><td>0.8179960882807866 </td><td>46.602030180896094 </td></tr>\n",
       "<tr><td>8      </td><td>135.984376920648   </td><td>32.316566769356214</td><td>58310.270165356975 </td><td>3862.892449379713 </td><td>572.221980441288  </td><td>2.3568288005049234</td><td>2818.999507306341 </td><td>-9829.72967593112  </td><td>-98884.0904671962 </td><td>-0.5883703906697635 </td><td>1827.062499749999 </td><td>26.521083781032356</td><td>9484.262921228852  </td><td>-61.714955155602105</td><td>2178.9330211762526 </td><td>-4939.917235122611 </td><td>14331.945482073046</td><td>51088.40042644537  </td><td>-746.9692665492199</td><td>-8.879596451422788 </td><td>34994.882095987414</td><td>93890.41417228764 </td><td>334.0751270835602  </td><td>3.776586872944883  </td><td>87.5740622549378 </td><td>931.5798893389788  </td><td>571.3884593104102  </td><td>-13.838747506213846 </td><td>4514.324272020485 </td><td>11236.001159794714</td><td>4606.667833055218 </td><td>-6605.776887435222 </td><td>47725.96929872891 </td><td>1251.2755008777094</td><td>1.2507891083123146 </td><td>0.7579305549877768 </td><td>-715.5054902601453  </td><td>7188.331942330784  </td><td>10662.227481168557 </td><td>0.5444578834819329  </td><td>1335.8696535806723</td><td>4103.452604220886 </td><td>450.6091041765868  </td><td>-5.701534831621108  </td><td>-616.3534082017894</td><td>682.2948845328549</td><td>1.031430071375377   </td><td>-89505.22795345206</td><td>1712.813266843094 </td><td>-415.99685396343096</td><td>2.2976384364863995  </td><td>589.2605299125457 </td><td>0.22160930302577989</td><td>7901.904130951451 </td><td>1693.2860608353387</td><td>-4.3948132876803765 </td><td>174.57188456682368 </td><td>-38.56380169870979 </td><td>78.9855565650866  </td><td>-730.0215751884543</td><td>578.4070704486977 </td><td>389.55208666147973</td><td>-8.007711700943478</td><td>-2461.3606816802885 </td><td>34.203845819157664</td><td>7780.24472927975  </td><td>-332.998949539803  </td><td>10264.565217623409</td><td>7.896227075602822 </td><td>1440.8958273224744 </td><td>43255.03246696502 </td><td>1300.6197517181522</td><td>3793.947856529658 </td><td>-486.4496087493538 </td><td>-92.26432942180166 </td><td>-99859.65156756404 </td><td>0.2563543311932664   </td><td>0.8203681169140862 </td><td>46.43781736510698  </td></tr>\n",
       "<tr><td>9      </td><td>136.9550962230148  </td><td>32.206853941062825</td><td>58004.77421369298  </td><td>3863.013090357688 </td><td>583.0872382682346 </td><td>2.3506433638154083</td><td>2807.128270632236 </td><td>-9829.72967593112  </td><td>-98884.27841402395</td><td>-0.5871296904183501 </td><td>2081.6172581342184</td><td>26.483325264497186</td><td>9484.262888459709  </td><td>-61.7667375182841  </td><td>2178.542508330439  </td><td>-4939.917158876508 </td><td>14331.944533922151</td><td>51103.040768572595 </td><td>-746.971665274142 </td><td>-8.879767229961967 </td><td>34994.88382668717 </td><td>93890.42228279047 </td><td>330.0718825111104  </td><td>3.775082958894244  </td><td>87.37187582805113</td><td>931.6199379021268  </td><td>571.2100590797484  </td><td>-13.83873559070132  </td><td>4514.320225083603 </td><td>11220.228474979678</td><td>4605.054362995392 </td><td>-6605.777680414023 </td><td>47728.64445409044 </td><td>1252.3307760085002</td><td>1.2511248711501914 </td><td>0.7608523690596588 </td><td>-715.5051299943254  </td><td>7188.331826940703  </td><td>10662.2275650409   </td><td>0.5439819333006363  </td><td>1335.9243392038636</td><td>4103.394381279381 </td><td>450.5976516354271  </td><td>-5.7017078345854495 </td><td>-616.3293545078967</td><td>682.4128315286224</td><td>1.028944856862234   </td><td>-89505.25693618061</td><td>1712.4196146709571</td><td>-415.9968182161987 </td><td>2.297633282392381   </td><td>591.9907854886413 </td><td>0.22160930302577989</td><td>7902.018481110184 </td><td>2010.1359493532211</td><td>-4.401200242748256  </td><td>164.80400421242572 </td><td>-38.7162338070319  </td><td>78.98394912884274 </td><td>-730.0182784254142</td><td>578.4241080893279 </td><td>389.5571623841579 </td><td>-8.00597295982518 </td><td>-2461.360681271236  </td><td>34.15889039816286 </td><td>7777.39671149452  </td><td>-332.998948514895  </td><td>10264.450740388842</td><td>7.896678774139446 </td><td>1437.992387119741  </td><td>43218.82504026213 </td><td>1299.4198147344146</td><td>3795.4666790392457</td><td>-486.43227199383347</td><td>-92.2642683611257  </td><td>-99859.65156675434 </td><td>0.2566094957264514   </td><td>0.8395059353796135 </td><td>46.63689277148947  </td></tr>\n",
       "</tbody>\n",
       "</table>"
      ]
     },
     "metadata": {},
     "output_type": "display_data"
    }
   ],
   "source": [
    "# df_data.describe()"
   ]
  },
  {
   "cell_type": "code",
   "execution_count": 455,
   "metadata": {},
   "outputs": [],
   "source": [
    "\n",
    "# y = '78'"
   ]
  },
  {
   "cell_type": "code",
   "execution_count": 456,
   "metadata": {},
   "outputs": [],
   "source": [
    "# splits = df_data.split_frame(ratios = [0.8], seed = 1)\n",
    "# train = splits[0]\n",
    "# test = splits[1]"
   ]
  },
  {
   "cell_type": "code",
   "execution_count": 457,
   "metadata": {},
   "outputs": [
    {
     "name": "stdout",
     "output_type": "stream",
     "text": [
      "AutoML progress: |\n",
      "15:55:27.134: AutoML: XGBoost is not available; skipping it.\n",
      "\n",
      "████████████████████████████████████████████████████████| 100%\n"
     ]
    }
   ],
   "source": [
    "# aml = H2OAutoML(max_runtime_secs = 60, seed = 1, project_name = \"testingH2o1\")\n",
    "# aml.train(y = y, training_frame = train, leaderboard_frame = test)"
   ]
  },
  {
   "cell_type": "code",
   "execution_count": null,
   "metadata": {},
   "outputs": [],
   "source": [
    "# aml2 = H2OAutoML(max_runtime_secs = 60, seed = 1, project_name = \"ptest1\")\n",
    "# aml2.train(y = y, training_frame = df_data)"
   ]
  },
  {
   "cell_type": "code",
   "execution_count": 458,
   "metadata": {},
   "outputs": [
    {
     "data": {
      "text/html": [
       "<table>\n",
       "<thead>\n",
       "<tr><th>model_id                    </th><th style=\"text-align: right;\">  mean_residual_deviance</th><th style=\"text-align: right;\">   rmse</th><th style=\"text-align: right;\">    mse</th><th style=\"text-align: right;\">     mae</th><th style=\"text-align: right;\">  rmsle</th></tr>\n",
       "</thead>\n",
       "<tbody>\n",
       "<tr><td>GLM_1_AutoML_20200122_155527</td><td style=\"text-align: right;\">                 1.91866</td><td style=\"text-align: right;\">1.38516</td><td style=\"text-align: right;\">1.91866</td><td style=\"text-align: right;\">0.720872</td><td style=\"text-align: right;\">    nan</td></tr>\n",
       "</tbody>\n",
       "</table>"
      ]
     },
     "metadata": {},
     "output_type": "display_data"
    },
    {
     "data": {
      "text/plain": []
     },
     "execution_count": 458,
     "metadata": {},
     "output_type": "execute_result"
    }
   ],
   "source": [
    "# aml.leaderboard.head()"
   ]
  },
  {
   "cell_type": "code",
   "execution_count": 150,
   "metadata": {},
   "outputs": [
    {
     "data": {
      "text/html": [
       "<table>\n",
       "<thead>\n",
       "<tr><th>model_id                                           </th><th style=\"text-align: right;\">  mean_residual_deviance</th><th style=\"text-align: right;\">   rmse</th><th style=\"text-align: right;\">    mse</th><th style=\"text-align: right;\">    mae</th><th style=\"text-align: right;\">   rmsle</th></tr>\n",
       "</thead>\n",
       "<tbody>\n",
       "<tr><td>StackedEnsemble_AllModels_AutoML_20200121_003939   </td><td style=\"text-align: right;\">                 124.285</td><td style=\"text-align: right;\">11.1483</td><td style=\"text-align: right;\">124.285</td><td style=\"text-align: right;\">8.31403</td><td style=\"text-align: right;\">0.234233</td></tr>\n",
       "<tr><td>StackedEnsemble_BestOfFamily_AutoML_20200121_003939</td><td style=\"text-align: right;\">                 124.285</td><td style=\"text-align: right;\">11.1483</td><td style=\"text-align: right;\">124.285</td><td style=\"text-align: right;\">8.31403</td><td style=\"text-align: right;\">0.234233</td></tr>\n",
       "<tr><td>DRF_1_AutoML_20200121_003939                       </td><td style=\"text-align: right;\">                 126.665</td><td style=\"text-align: right;\">11.2545</td><td style=\"text-align: right;\">126.665</td><td style=\"text-align: right;\">8.34702</td><td style=\"text-align: right;\">0.235589</td></tr>\n",
       "<tr><td>GLM_1_AutoML_20200121_003939                       </td><td style=\"text-align: right;\">                 133.66 </td><td style=\"text-align: right;\">11.5611</td><td style=\"text-align: right;\">133.66 </td><td style=\"text-align: right;\">8.79805</td><td style=\"text-align: right;\">0.23876 </td></tr>\n",
       "</tbody>\n",
       "</table>"
      ]
     },
     "metadata": {},
     "output_type": "display_data"
    },
    {
     "data": {
      "text/plain": []
     },
     "execution_count": 150,
     "metadata": {},
     "output_type": "execute_result"
    }
   ],
   "source": [
    "# aml2.leaderboard.head()"
   ]
  },
  {
   "cell_type": "code",
   "execution_count": 459,
   "metadata": {},
   "outputs": [
    {
     "name": "stdout",
     "output_type": "stream",
     "text": [
      "glm prediction progress: |████████████████████████████████████████████████| 100%\n"
     ]
    },
    {
     "data": {
      "text/html": [
       "<table>\n",
       "<thead>\n",
       "<tr><th style=\"text-align: right;\">  predict</th></tr>\n",
       "</thead>\n",
       "<tbody>\n",
       "<tr><td style=\"text-align: right;\">  47.0111</td></tr>\n",
       "<tr><td style=\"text-align: right;\">  47.3929</td></tr>\n",
       "<tr><td style=\"text-align: right;\">  47.1783</td></tr>\n",
       "<tr><td style=\"text-align: right;\">  48.6049</td></tr>\n",
       "<tr><td style=\"text-align: right;\">  47.9151</td></tr>\n",
       "<tr><td style=\"text-align: right;\">  48.5562</td></tr>\n",
       "<tr><td style=\"text-align: right;\">  48.5421</td></tr>\n",
       "<tr><td style=\"text-align: right;\">  49.0953</td></tr>\n",
       "<tr><td style=\"text-align: right;\">  47.9463</td></tr>\n",
       "<tr><td style=\"text-align: right;\">  48.1522</td></tr>\n",
       "</tbody>\n",
       "</table>"
      ]
     },
     "metadata": {},
     "output_type": "display_data"
    },
    {
     "data": {
      "text/plain": []
     },
     "execution_count": 459,
     "metadata": {},
     "output_type": "execute_result"
    }
   ],
   "source": [
    "# pred = aml.predict(test)\n",
    "# pred.head()"
   ]
  },
  {
   "cell_type": "code",
   "execution_count": 460,
   "metadata": {},
   "outputs": [
    {
     "name": "stdout",
     "output_type": "stream",
     "text": [
      "\n",
      "ModelMetricsRegressionGLM: glm\n",
      "** Reported on test data. **\n",
      "\n",
      "MSE: 1.9186566591627263\n",
      "RMSE: 1.3851558248669087\n",
      "MAE: 0.7208722162145739\n",
      "RMSLE: NaN\n",
      "R^2: 0.9995071463226961\n",
      "Mean Residual Deviance: 1.9186566591627263\n",
      "Null degrees of freedom: 64238\n",
      "Residual degrees of freedom: 64160\n",
      "Null deviance: 250082090.5597449\n",
      "Residual deviance: 123252.58512795437\n",
      "AIC: 224322.1415187579\n"
     ]
    },
    {
     "data": {
      "text/plain": []
     },
     "execution_count": 460,
     "metadata": {},
     "output_type": "execute_result"
    }
   ],
   "source": [
    "# perf = aml.leader.model_performance(test)\n",
    "# perf"
   ]
  },
  {
   "cell_type": "code",
   "execution_count": null,
   "metadata": {},
   "outputs": [],
   "source": []
  }
 ],
 "metadata": {
  "kernelspec": {
   "display_name": "Python 3",
   "language": "python",
   "name": "python3"
  },
  "language_info": {
   "codemirror_mode": {
    "name": "ipython",
    "version": 3
   },
   "file_extension": ".py",
   "mimetype": "text/x-python",
   "name": "python",
   "nbconvert_exporter": "python",
   "pygments_lexer": "ipython3",
   "version": "3.7.1"
  }
 },
 "nbformat": 4,
 "nbformat_minor": 2
}
