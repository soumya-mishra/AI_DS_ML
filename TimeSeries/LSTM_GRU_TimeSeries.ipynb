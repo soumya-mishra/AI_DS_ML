{
 "cells": [
  {
   "cell_type": "markdown",
   "metadata": {
    "_cell_guid": "b1076dfc-b9ad-4769-8c92-a6c4dae69d19",
    "_uuid": "8f2839f25d086af736a60e9eeb907d3b93b6e0e5",
    "collapsed": true
   },
   "source": [
    "## Recurrent Neural Networks\n",
    "\n",
    "\n",
    "Source: [Quora](https://www.quora.com/What-is-a-simple-explanation-of-a-recurrent-neural-network)\n",
    "<img src=\"https://cdn-images-1.medium.com/max/1600/1*NKhwsOYNUT5xU7Pyf6Znhg.png\">\n",
    "\n",
    "Source: [Medium](https://medium.com/ai-journal/lstm-gru-recurrent-neural-networks-81fe2bcdf1f9)\n",
    "\n",
    "Let me give you the best explanation of Recurrent Neural Networks that I found on internet: https://www.youtube.com/watch?v=UNmqTiOnRfg&t=3s"
   ]
  },
  {
   "cell_type": "markdown",
   "metadata": {
    "_cell_guid": "79c7e3d0-c299-4dcb-8224-4455121ee9b0",
    "_uuid": "d629ff2d2480ee46fbb7e2d37f6b5fab8052498a",
    "collapsed": true
   },
   "source": [
    "Now, even though RNNs are quite powerful, they suffer from  **Vanishing gradient problem ** which hinders them from using long term information, like they are good for storing memory 3-4 instances of past iterations but larger number of instances don't provide good results so we don't just use regular RNNs. Instead, we use a better variation of RNNs: **Long Short Term Networks(LSTM).**\n",
    "\n",
    "### What is Vanishing Gradient problem?\n",
    "Vanishing gradient problem is a difficulty found in training artificial neural networks with gradient-based learning methods and backpropagation. In such methods, each of the neural network's weights receives an update proportional to the partial derivative of the error function with respect to the current weight in each iteration of training. The problem is that in some cases, the gradient will be vanishingly small, effectively preventing the weight from changing its value. In the worst case, this may completely stop the neural network from further training. As one example of the problem cause, traditional activation functions such as the hyperbolic tangent function have gradients in the range (0, 1), and backpropagation computes gradients by the chain rule. This has the effect of multiplying n of these small numbers to compute gradients of the \"front\" layers in an n-layer network, meaning that the gradient (error signal) decreases exponentially with n while the front layers train very slowly.\n",
    "\n",
    "Source: [Wikipedia](https://en.wikipedia.org/wiki/Vanishing_gradient_problem)\n",
    "\n",
    "<img src=\"https://cdn-images-1.medium.com/max/1460/1*FWy4STsp8k0M5Yd8LifG_Q.png\">\n",
    "\n",
    "Source: [Medium](https://medium.com/@anishsingh20/the-vanishing-gradient-problem-48ae7f501257)"
   ]
  },
  {
   "cell_type": "markdown",
   "metadata": {
    "_uuid": "79ac683d1b85322f6ed4a564637914a8d803221b"
   },
   "source": [
    "## Long Short Term Memory(LSTM)\n",
    "Long short-term memory (LSTM) units (or blocks) are a building unit for layers of a recurrent neural network (RNN). A RNN composed of LSTM units is often called an LSTM network. A common LSTM unit is composed of a cell, an input gate, an output gate and a forget gate. The cell is responsible for \"remembering\" values over arbitrary time intervals; hence the word \"memory\" in LSTM. Each of the three gates can be thought of as a \"conventional\" artificial neuron, as in a multi-layer (or feedforward) neural network: that is, they compute an activation (using an activation function) of a weighted sum. Intuitively, they can be thought as regulators of the flow of values that goes through the connections of the LSTM; hence the denotation \"gate\". There are connections between these gates and the cell.\n",
    "\n",
    "The expression long short-term refers to the fact that LSTM is a model for the short-term memory which can last for a long period of time. An LSTM is well-suited to classify, process and predict time series given time lags of unknown size and duration between important events. LSTMs were developed to deal with the exploding and vanishing gradient problem when training traditional RNNs.\n",
    "\n",
    "Source: [Wikipedia](https://en.wikipedia.org/wiki/Long_short-term_memory)\n",
    "\n",
    "<img src=\"https://cdn-images-1.medium.com/max/1600/0*LyfY3Mow9eCYlj7o.\">\n",
    "\n",
    "Source: [Medium](https://codeburst.io/generating-text-using-an-lstm-network-no-libraries-2dff88a3968)\n",
    "\n",
    "The best LSTM explanation on internet: https://medium.com/deep-math-machine-learning-ai/chapter-10-1-deepnlp-lstm-long-short-term-memory-networks-with-math-21477f8e4235\n",
    "\n",
    "Refer above link for deeper insights."
   ]
  },
  {
   "cell_type": "markdown",
   "metadata": {
    "_uuid": "42c24cc294d93504880c5c76d383b491d89b29f1"
   },
   "source": [
    "## Components of LSTMs\n",
    "So the LSTM cell contains the following components\n",
    "* Forget Gate “f” ( a neural network with sigmoid)\n",
    "* Candidate layer “C\"(a NN with Tanh)\n",
    "* Input Gate “I” ( a NN with sigmoid )\n",
    "* Output Gate “O”( a NN with sigmoid)\n",
    "* Hidden state “H” ( a vector )\n",
    "* Memory state “C” ( a vector)\n",
    "\n",
    "* Inputs to the LSTM cell at any step are X<sub>t</sub> (current input) , H<sub>t-1</sub> (previous hidden state ) and C<sub>t-1</sub> (previous memory state).  \n",
    "* Outputs from the LSTM cell are H<sub>t</sub> (current hidden state ) and C<sub>t</sub> (current memory state)"
   ]
  },
  {
   "cell_type": "markdown",
   "metadata": {
    "_uuid": "e7f3771ce38c69191eb23681561744863ee30ea8"
   },
   "source": [
    "## Working of gates in LSTMs\n",
    "First, LSTM cell takes the previous memory state C<sub>t-1</sub> and does element wise multiplication with forget gate (f) to decide if  present memory state C<sub>t</sub>. If forget gate value is 0 then previous memory state is completely forgotten else f forget gate value is 1 then previous memory state is completely passed to the cell ( Remember f gate gives values between 0 and 1 ).\n",
    "\n",
    "**C<sub>t</sub> = C<sub>t-1</sub> * f<sub>t</sub>**\n",
    "\n",
    "Calculating the new memory state: \n",
    "\n",
    "**C<sub>t</sub> = C<sub>t</sub> + (I<sub>t</sub> * C\\`<sub>t</sub>)**\n",
    "\n",
    "Now, we calculate the output:\n",
    "\n",
    "**H<sub>t</sub> = tanh(C<sub>t</sub>)**"
   ]
  },
  {
   "cell_type": "markdown",
   "metadata": {
    "_uuid": "2f82cc24efc6283e5a98cadb78fc1a465e44c143",
    "collapsed": true
   },
   "source": [
    "### And now we get to the code...\n",
    "I will use LSTMs for predicting the price of stocks of IBM for the year 2017"
   ]
  },
  {
   "cell_type": "code",
   "execution_count": 1,
   "metadata": {
    "_uuid": "da0236e4b36ce514c1fec3fd72f236d1fa259131"
   },
   "outputs": [
    {
     "name": "stderr",
     "output_type": "stream",
     "text": [
      "Using TensorFlow backend.\n"
     ]
    }
   ],
   "source": [
    "# Importing the libraries\n",
    "import numpy as np\n",
    "import matplotlib.pyplot as plt\n",
    "plt.style.use('fivethirtyeight')\n",
    "import pandas as pd\n",
    "from sklearn.preprocessing import MinMaxScaler\n",
    "from keras.models import Sequential\n",
    "from keras.layers import Dense, LSTM, Dropout, GRU, Bidirectional\n",
    "from keras.optimizers import SGD\n",
    "import math\n",
    "from sklearn.metrics import mean_squared_error"
   ]
  },
  {
   "cell_type": "code",
   "execution_count": 2,
   "metadata": {
    "_uuid": "b288a8e2caf6196daec9cd2bc4ca78fe50345845"
   },
   "outputs": [],
   "source": [
    "# Some functions to help out with\n",
    "def plot_predictions(test,predicted):\n",
    "    plt.plot(test, color='red',label='Real IBM Stock Price')\n",
    "    plt.plot(predicted, color='blue',label='Predicted IBM Stock Price')\n",
    "    plt.title('IBM Stock Price Prediction')\n",
    "    plt.xlabel('Time')\n",
    "    plt.ylabel('IBM Stock Price')\n",
    "    plt.legend()\n",
    "    plt.show()\n",
    "\n",
    "def return_rmse(test,predicted):\n",
    "    rmse = math.sqrt(mean_squared_error(test, predicted))\n",
    "    print(\"The root mean squared error is {}.\".format(rmse))"
   ]
  },
  {
   "cell_type": "code",
   "execution_count": 28,
   "metadata": {
    "_uuid": "4cf10cf27420eb383b93b15c0895139ea96c0ed3"
   },
   "outputs": [
    {
     "data": {
      "text/html": [
       "<div>\n",
       "<style scoped>\n",
       "    .dataframe tbody tr th:only-of-type {\n",
       "        vertical-align: middle;\n",
       "    }\n",
       "\n",
       "    .dataframe tbody tr th {\n",
       "        vertical-align: top;\n",
       "    }\n",
       "\n",
       "    .dataframe thead th {\n",
       "        text-align: right;\n",
       "    }\n",
       "</style>\n",
       "<table border=\"1\" class=\"dataframe\">\n",
       "  <thead>\n",
       "    <tr style=\"text-align: right;\">\n",
       "      <th></th>\n",
       "      <th>Open</th>\n",
       "      <th>High</th>\n",
       "      <th>Low</th>\n",
       "      <th>Close</th>\n",
       "      <th>Volume</th>\n",
       "      <th>Name</th>\n",
       "    </tr>\n",
       "    <tr>\n",
       "      <th>Date</th>\n",
       "      <th></th>\n",
       "      <th></th>\n",
       "      <th></th>\n",
       "      <th></th>\n",
       "      <th></th>\n",
       "      <th></th>\n",
       "    </tr>\n",
       "  </thead>\n",
       "  <tbody>\n",
       "    <tr>\n",
       "      <th>2006-01-03</th>\n",
       "      <td>39.69</td>\n",
       "      <td>41.22</td>\n",
       "      <td>38.79</td>\n",
       "      <td>40.91</td>\n",
       "      <td>24232729</td>\n",
       "      <td>AABA</td>\n",
       "    </tr>\n",
       "    <tr>\n",
       "      <th>2006-01-04</th>\n",
       "      <td>41.22</td>\n",
       "      <td>41.90</td>\n",
       "      <td>40.77</td>\n",
       "      <td>40.97</td>\n",
       "      <td>20553479</td>\n",
       "      <td>AABA</td>\n",
       "    </tr>\n",
       "    <tr>\n",
       "      <th>2006-01-05</th>\n",
       "      <td>40.93</td>\n",
       "      <td>41.73</td>\n",
       "      <td>40.85</td>\n",
       "      <td>41.53</td>\n",
       "      <td>12829610</td>\n",
       "      <td>AABA</td>\n",
       "    </tr>\n",
       "    <tr>\n",
       "      <th>2006-01-06</th>\n",
       "      <td>42.88</td>\n",
       "      <td>43.57</td>\n",
       "      <td>42.80</td>\n",
       "      <td>43.21</td>\n",
       "      <td>29422828</td>\n",
       "      <td>AABA</td>\n",
       "    </tr>\n",
       "    <tr>\n",
       "      <th>2006-01-09</th>\n",
       "      <td>43.10</td>\n",
       "      <td>43.66</td>\n",
       "      <td>42.82</td>\n",
       "      <td>43.42</td>\n",
       "      <td>16268338</td>\n",
       "      <td>AABA</td>\n",
       "    </tr>\n",
       "  </tbody>\n",
       "</table>\n",
       "</div>"
      ],
      "text/plain": [
       "             Open   High    Low  Close    Volume  Name\n",
       "Date                                                  \n",
       "2006-01-03  39.69  41.22  38.79  40.91  24232729  AABA\n",
       "2006-01-04  41.22  41.90  40.77  40.97  20553479  AABA\n",
       "2006-01-05  40.93  41.73  40.85  41.53  12829610  AABA\n",
       "2006-01-06  42.88  43.57  42.80  43.21  29422828  AABA\n",
       "2006-01-09  43.10  43.66  42.82  43.42  16268338  AABA"
      ]
     },
     "execution_count": 28,
     "metadata": {},
     "output_type": "execute_result"
    }
   ],
   "source": [
    "# First, we get the data\n",
    "dataset = pd.read_csv(r'C:\\Users\\I324158\\OneDrive - SAP SE\\Machine Learning\\Dataset\\timeseries\\AABA_2006-01-01_to_2018-01-01.csv', index_col='Date', parse_dates=['Date'])\n",
    "dataset.head()"
   ]
  },
  {
   "cell_type": "code",
   "execution_count": 5,
   "metadata": {},
   "outputs": [
    {
     "data": {
      "text/html": [
       "<div>\n",
       "<style scoped>\n",
       "    .dataframe tbody tr th:only-of-type {\n",
       "        vertical-align: middle;\n",
       "    }\n",
       "\n",
       "    .dataframe tbody tr th {\n",
       "        vertical-align: top;\n",
       "    }\n",
       "\n",
       "    .dataframe thead th {\n",
       "        text-align: right;\n",
       "    }\n",
       "</style>\n",
       "<table border=\"1\" class=\"dataframe\">\n",
       "  <thead>\n",
       "    <tr style=\"text-align: right;\">\n",
       "      <th></th>\n",
       "      <th>Open</th>\n",
       "      <th>High</th>\n",
       "      <th>Low</th>\n",
       "      <th>Close</th>\n",
       "      <th>Volume</th>\n",
       "      <th>Name</th>\n",
       "    </tr>\n",
       "    <tr>\n",
       "      <th>Date</th>\n",
       "      <th></th>\n",
       "      <th></th>\n",
       "      <th></th>\n",
       "      <th></th>\n",
       "      <th></th>\n",
       "      <th></th>\n",
       "    </tr>\n",
       "  </thead>\n",
       "  <tbody>\n",
       "    <tr>\n",
       "      <th>2017-12-22</th>\n",
       "      <td>71.42</td>\n",
       "      <td>71.87</td>\n",
       "      <td>71.22</td>\n",
       "      <td>71.58</td>\n",
       "      <td>10979165</td>\n",
       "      <td>AABA</td>\n",
       "    </tr>\n",
       "    <tr>\n",
       "      <th>2017-12-26</th>\n",
       "      <td>70.94</td>\n",
       "      <td>71.39</td>\n",
       "      <td>69.63</td>\n",
       "      <td>69.86</td>\n",
       "      <td>8542802</td>\n",
       "      <td>AABA</td>\n",
       "    </tr>\n",
       "    <tr>\n",
       "      <th>2017-12-27</th>\n",
       "      <td>69.77</td>\n",
       "      <td>70.49</td>\n",
       "      <td>69.69</td>\n",
       "      <td>70.06</td>\n",
       "      <td>6345124</td>\n",
       "      <td>AABA</td>\n",
       "    </tr>\n",
       "    <tr>\n",
       "      <th>2017-12-28</th>\n",
       "      <td>70.12</td>\n",
       "      <td>70.32</td>\n",
       "      <td>69.51</td>\n",
       "      <td>69.82</td>\n",
       "      <td>7556877</td>\n",
       "      <td>AABA</td>\n",
       "    </tr>\n",
       "    <tr>\n",
       "      <th>2017-12-29</th>\n",
       "      <td>69.79</td>\n",
       "      <td>70.13</td>\n",
       "      <td>69.43</td>\n",
       "      <td>69.85</td>\n",
       "      <td>6613070</td>\n",
       "      <td>AABA</td>\n",
       "    </tr>\n",
       "  </tbody>\n",
       "</table>\n",
       "</div>"
      ],
      "text/plain": [
       "             Open   High    Low  Close    Volume  Name\n",
       "Date                                                  \n",
       "2017-12-22  71.42  71.87  71.22  71.58  10979165  AABA\n",
       "2017-12-26  70.94  71.39  69.63  69.86   8542802  AABA\n",
       "2017-12-27  69.77  70.49  69.69  70.06   6345124  AABA\n",
       "2017-12-28  70.12  70.32  69.51  69.82   7556877  AABA\n",
       "2017-12-29  69.79  70.13  69.43  69.85   6613070  AABA"
      ]
     },
     "execution_count": 5,
     "metadata": {},
     "output_type": "execute_result"
    }
   ],
   "source": [
    "dataset.tail()"
   ]
  },
  {
   "cell_type": "code",
   "execution_count": 30,
   "metadata": {},
   "outputs": [],
   "source": [
    "# len(dataset['2017'])\n"
   ]
  },
  {
   "cell_type": "code",
   "execution_count": 36,
   "metadata": {
    "_uuid": "fb4c9db6d8a5bcf20ffad41747cfa5b6215ba220"
   },
   "outputs": [],
   "source": [
    "# Checking for missing values\n",
    "training_set = dataset[:'2016'].iloc[:,1:2].values\n",
    "test_set = dataset['2017':].iloc[:,1:2].values\n"
   ]
  },
  {
   "cell_type": "code",
   "execution_count": 37,
   "metadata": {},
   "outputs": [
    {
     "name": "stdout",
     "output_type": "stream",
     "text": [
      "251\n",
      "2768\n"
     ]
    }
   ],
   "source": [
    "print(len(test_set))\n",
    "print(len(training_set))\n"
   ]
  },
  {
   "cell_type": "code",
   "execution_count": 38,
   "metadata": {
    "_uuid": "bf5a9463d58e73852d2b70be9611e8cf1f4166fd"
   },
   "outputs": [
    {
     "data": {
      "image/png": "[encoded data removed]",
      "text/plain": [
       "<Figure size 1152x288 with 1 Axes>"
      ]
     },
     "metadata": {
      "needs_background": "light"
     },
     "output_type": "display_data"
    }
   ],
   "source": [
    "# We have chosen 'High' attribute for prices. Let's see what it looks like\n",
    "dataset[\"High\"][:'2016'].plot(figsize=(16,4),legend=True)\n",
    "dataset[\"High\"]['2017':].plot(figsize=(16,4),legend=True)\n",
    "plt.legend(['Training set (Before 2017)','Test set (2017 and beyond)'])\n",
    "plt.title('IBM stock price')\n",
    "plt.show()"
   ]
  },
  {
   "cell_type": "code",
   "execution_count": 39,
   "metadata": {
    "_uuid": "bcc9c36165fc07d258bd5ea87874d2da17fa4a4d"
   },
   "outputs": [
    {
     "data": {
      "text/plain": [
       "2768"
      ]
     },
     "execution_count": 39,
     "metadata": {},
     "output_type": "execute_result"
    }
   ],
   "source": [
    "# Scaling the training set\n",
    "sc = MinMaxScaler(feature_range=(0,1))\n",
    "training_set_scaled = sc.fit_transform(training_set)\n",
    "# len(training_set_scaled)"
   ]
  },
  {
   "cell_type": "raw",
   "metadata": {},
   "source": [
    "# How to build data for LSTM with time series data\n",
    "# Consider a given univariate sequence:\n",
    "\n",
    "[10, 20, 30, 40, 50, 60, 70, 80, 90]\n",
    "\n",
    "We can divide the sequence into multiple input/output patterns called samples,\n",
    "where three time steps are used as input and one time step is used as output for the one-step prediction that is being learned.\n",
    "\n",
    "X,\t\t\t\ty\n",
    "10, 20, 30\t-->\t40\n",
    "20, 30, 40\t-->\t50\n",
    "30, 40, 50\t-->\t60\n",
    "\n"
   ]
  },
  {
   "cell_type": "code",
   "execution_count": 64,
   "metadata": {
    "_uuid": "fccfb866a2b4c702e0b2742f7c0289512d713d1b"
   },
   "outputs": [],
   "source": [
    "# test = pd.DataFrame(np.array([10, 20, 30, 40, 50, 60, 70, 80, 90]))\n",
    "# testval = test.iloc[:,:].values\n",
    "# for i in range(3,len(testval)):\n",
    "#     X_train.append(testval[i-3:i,0])\n",
    "#     y_train.append(testval[i,0])\n",
    "# X_train, y_train = np.array(X_train), np.array(y_train)\n",
    "    \n",
    "    "
   ]
  },
  {
   "cell_type": "code",
   "execution_count": 69,
   "metadata": {},
   "outputs": [
    {
     "name": "stdout",
     "output_type": "stream",
     "text": [
      "[[10 20 30]\n",
      " [20 30 40]\n",
      " [30 40 50]\n",
      " [40 50 60]\n",
      " [50 60 70]\n",
      " [60 70 80]]\n",
      "[40 50 60 70 80 90]\n"
     ]
    }
   ],
   "source": [
    "# print(X_train)\n",
    "# print(y_train)"
   ]
  },
  {
   "cell_type": "code",
   "execution_count": 75,
   "metadata": {},
   "outputs": [],
   "source": [
    "# Since LSTMs store long term memory state, we create a data structure with 60 timesteps \n",
    "#and 1 output.\n",
    "# So for each element of training set, we have 60 previous training set elements \n",
    "X_train = []\n",
    "y_train = []\n",
    "for i in range(60,2768):\n",
    "    X_train.append(training_set_scaled[i-60:i,0])\n",
    "    y_train.append(training_set_scaled[i,0])\n",
    "X_train, y_train = np.array(X_train), np.array(y_train)"
   ]
  },
  {
   "cell_type": "code",
   "execution_count": 76,
   "metadata": {},
   "outputs": [
    {
     "data": {
      "text/plain": [
       "array([[0.73574409, 0.75150672, 0.74756606, ..., 0.52387575, 0.5336115 ,\n",
       "        0.54311544],\n",
       "       [0.75150672, 0.74756606, 0.7902179 , ..., 0.5336115 , 0.54311544,\n",
       "        0.54126101],\n",
       "       [0.74756606, 0.7902179 , 0.79230413, ..., 0.54311544, 0.54126101,\n",
       "        0.53662494],\n",
       "       ...,\n",
       "       [0.78117756, 0.78859527, 0.797172  , ..., 0.67941586, 0.67987946,\n",
       "        0.68567455],\n",
       "       [0.78859527, 0.797172  , 0.79601298, ..., 0.67987946, 0.68567455,\n",
       "        0.6893834 ],\n",
       "       [0.797172  , 0.79601298, 0.79276773, ..., 0.68567455, 0.6893834 ,\n",
       "        0.6826611 ]])"
      ]
     },
     "execution_count": 76,
     "metadata": {},
     "output_type": "execute_result"
    }
   ],
   "source": [
    "X_train"
   ]
  },
  {
   "cell_type": "code",
   "execution_count": 77,
   "metadata": {},
   "outputs": [
    {
     "data": {
      "text/plain": [
       "(2708, 60)"
      ]
     },
     "execution_count": 77,
     "metadata": {},
     "output_type": "execute_result"
    }
   ],
   "source": [
    "X_train.shape"
   ]
  },
  {
   "cell_type": "code",
   "execution_count": 78,
   "metadata": {
    "_uuid": "637f699d3c4bde4b783de56ed4dd70a1bf59760d"
   },
   "outputs": [],
   "source": [
    "# The shape of Input in LSTM should be in below format\n",
    "# --->Samples. One sequence is one sample. A batch is comprised of one or more samples.\n",
    "# --->Time Steps. One time step is one point of observation in the sample.\n",
    "# --->Features. One feature is one observation at a time step.\n",
    "\n",
    "# Reshaping X_train for efficient modelling\n",
    "X_train = np.reshape(X_train, (X_train.shape[0],X_train.shape[1],1))"
   ]
  },
  {
   "cell_type": "code",
   "execution_count": 79,
   "metadata": {},
   "outputs": [
    {
     "data": {
      "text/plain": [
       "(2708, 60, 1)"
      ]
     },
     "execution_count": 79,
     "metadata": {},
     "output_type": "execute_result"
    }
   ],
   "source": [
    "X_train.shape"
   ]
  },
  {
   "cell_type": "code",
   "execution_count": 80,
   "metadata": {
    "_uuid": "df20eb7e8062dae0a3aff2182aa440faddd0017d"
   },
   "outputs": [
    {
     "name": "stdout",
     "output_type": "stream",
     "text": [
      "WARNING:tensorflow:From C:\\Users\\I324158\\AppData\\Local\\Continuum\\anaconda3\\lib\\site-packages\\tensorflow\\python\\framework\\op_def_library.py:263: colocate_with (from tensorflow.python.framework.ops) is deprecated and will be removed in a future version.\n",
      "Instructions for updating:\n",
      "Colocations handled automatically by placer.\n",
      "WARNING:tensorflow:From C:\\Users\\I324158\\AppData\\Local\\Continuum\\anaconda3\\lib\\site-packages\\keras\\backend\\tensorflow_backend.py:3445: calling dropout (from tensorflow.python.ops.nn_ops) with keep_prob is deprecated and will be removed in a future version.\n",
      "Instructions for updating:\n",
      "Please use `rate` instead of `keep_prob`. Rate should be set to `rate = 1 - keep_prob`.\n",
      "WARNING:tensorflow:From C:\\Users\\I324158\\AppData\\Local\\Continuum\\anaconda3\\lib\\site-packages\\tensorflow\\python\\ops\\math_ops.py:3066: to_int32 (from tensorflow.python.ops.math_ops) is deprecated and will be removed in a future version.\n",
      "Instructions for updating:\n",
      "Use tf.cast instead.\n",
      "Epoch 1/50\n",
      "2708/2708 [==============================] - 22s 8ms/step - loss: 0.0161\n",
      "Epoch 2/50\n",
      "2708/2708 [==============================] - 18s 7ms/step - loss: 0.0070\n",
      "Epoch 3/50\n",
      "2708/2708 [==============================] - 19s 7ms/step - loss: 0.0057\n",
      "Epoch 4/50\n",
      "2708/2708 [==============================] - 21s 8ms/step - loss: 0.0049\n",
      "Epoch 5/50\n",
      "2708/2708 [==============================] - 19s 7ms/step - loss: 0.0043\n",
      "Epoch 6/50\n",
      "2708/2708 [==============================] - 19s 7ms/step - loss: 0.0036\n",
      "Epoch 7/50\n",
      "2708/2708 [==============================] - 20s 7ms/step - loss: 0.0035\n",
      "Epoch 8/50\n",
      "2708/2708 [==============================] - 19s 7ms/step - loss: 0.0031\n",
      "Epoch 9/50\n",
      "2708/2708 [==============================] - 19s 7ms/step - loss: 0.0030\n",
      "Epoch 10/50\n",
      "2708/2708 [==============================] - 19s 7ms/step - loss: 0.0026\n",
      "Epoch 11/50\n",
      "2708/2708 [==============================] - 20s 7ms/step - loss: 0.0026\n",
      "Epoch 12/50\n",
      "2708/2708 [==============================] - 19s 7ms/step - loss: 0.0024\n",
      "Epoch 13/50\n",
      "2708/2708 [==============================] - 19s 7ms/step - loss: 0.0023\n",
      "Epoch 14/50\n",
      "2708/2708 [==============================] - 20s 7ms/step - loss: 0.0021\n",
      "Epoch 15/50\n",
      "2708/2708 [==============================] - 19s 7ms/step - loss: 0.0022\n",
      "Epoch 16/50\n",
      "2708/2708 [==============================] - 19s 7ms/step - loss: 0.0019\n",
      "Epoch 17/50\n",
      "2708/2708 [==============================] - 20s 7ms/step - loss: 0.0019\n",
      "Epoch 18/50\n",
      "2708/2708 [==============================] - 23s 9ms/step - loss: 0.0019\n",
      "Epoch 19/50\n",
      "2708/2708 [==============================] - 59s 22ms/step - loss: 0.0017\n",
      "Epoch 20/50\n",
      "2708/2708 [==============================] - 58s 21ms/step - loss: 0.0017\n",
      "Epoch 21/50\n",
      "2708/2708 [==============================] - 58s 21ms/step - loss: 0.0017\n",
      "Epoch 22/50\n",
      "2708/2708 [==============================] - 49s 18ms/step - loss: 0.0016\n",
      "Epoch 23/50\n",
      "2708/2708 [==============================] - 49s 18ms/step - loss: 0.0016\n",
      "Epoch 24/50\n",
      "2708/2708 [==============================] - 47s 17ms/step - loss: 0.0016\n",
      "Epoch 25/50\n",
      "2708/2708 [==============================] - 45s 17ms/step - loss: 0.0016\n",
      "Epoch 26/50\n",
      "2708/2708 [==============================] - 48s 18ms/step - loss: 0.0016\n",
      "Epoch 27/50\n",
      "2708/2708 [==============================] - 47s 17ms/step - loss: 0.0015\n",
      "Epoch 28/50\n",
      "2708/2708 [==============================] - 44s 16ms/step - loss: 0.0016\n",
      "Epoch 29/50\n",
      "2708/2708 [==============================] - 50s 19ms/step - loss: 0.0015\n",
      "Epoch 30/50\n",
      "2708/2708 [==============================] - 49s 18ms/step - loss: 0.0014\n",
      "Epoch 31/50\n",
      "2708/2708 [==============================] - 44s 16ms/step - loss: 0.0015\n",
      "Epoch 32/50\n",
      "2708/2708 [==============================] - 46s 17ms/step - loss: 0.0013\n",
      "Epoch 33/50\n",
      "2708/2708 [==============================] - 48s 18ms/step - loss: 0.0013\n",
      "Epoch 34/50\n",
      "2708/2708 [==============================] - 45s 16ms/step - loss: 0.0013\n",
      "Epoch 35/50\n",
      "2708/2708 [==============================] - 46s 17ms/step - loss: 0.0012\n",
      "Epoch 36/50\n",
      "2708/2708 [==============================] - 676s 250ms/step - loss: 0.0013\n",
      "Epoch 37/50\n",
      "2708/2708 [==============================] - 2034s 751ms/step - loss: 0.0013\n",
      "Epoch 38/50\n",
      "2708/2708 [==============================] - 85s 31ms/step - loss: 0.0012\n",
      "Epoch 39/50\n",
      "2708/2708 [==============================] - 76s 28ms/step - loss: 0.0013\n",
      "Epoch 40/50\n",
      "2708/2708 [==============================] - 76s 28ms/step - loss: 0.0013\n",
      "Epoch 41/50\n",
      "2708/2708 [==============================] - 7945s 3s/step - loss: 0.0012\n",
      "Epoch 42/50\n",
      "2708/2708 [==============================] - 64s 24ms/step - loss: 0.0013\n",
      "Epoch 43/50\n",
      "2708/2708 [==============================] - 59s 22ms/step - loss: 0.0012\n",
      "Epoch 44/50\n",
      "2708/2708 [==============================] - 52s 19ms/step - loss: 0.0012\n",
      "Epoch 45/50\n",
      "2708/2708 [==============================] - 52s 19ms/step - loss: 0.0012\n",
      "Epoch 46/50\n",
      "2708/2708 [==============================] - 50s 19ms/step - loss: 0.0012\n",
      "Epoch 47/50\n",
      "2708/2708 [==============================] - 47s 17ms/step - loss: 0.0012\n",
      "Epoch 48/50\n",
      "2708/2708 [==============================] - 45s 17ms/step - loss: 0.0011\n",
      "Epoch 49/50\n",
      "2708/2708 [==============================] - 48s 18ms/step - loss: 0.0012\n",
      "Epoch 50/50\n",
      "2708/2708 [==============================] - 45s 17ms/step - loss: 0.0011\n"
     ]
    },
    {
     "data": {
      "text/plain": [
       "<keras.callbacks.History at 0x1641e4b2f98>"
      ]
     },
     "execution_count": 80,
     "metadata": {},
     "output_type": "execute_result"
    }
   ],
   "source": [
    "# The LSTM architecture\n",
    "regressor = Sequential()\n",
    "# First LSTM layer with Dropout regularisation\n",
    "regressor.add(LSTM(units=50, return_sequences=True, input_shape=(X_train.shape[1],1)))\n",
    "regressor.add(Dropout(0.2))\n",
    "# Second LSTM layer\n",
    "regressor.add(LSTM(units=50, return_sequences=True))\n",
    "regressor.add(Dropout(0.2))\n",
    "# Third LSTM layer\n",
    "regressor.add(LSTM(units=50, return_sequences=True))\n",
    "regressor.add(Dropout(0.2))\n",
    "# Fourth LSTM layer\n",
    "regressor.add(LSTM(units=50))\n",
    "regressor.add(Dropout(0.2))\n",
    "# The output layer\n",
    "regressor.add(Dense(units=1))\n",
    "\n",
    "# Compiling the RNN\n",
    "regressor.compile(optimizer='rmsprop',loss='mean_squared_error')\n",
    "# Fitting to the training set\n",
    "regressor.fit(X_train,y_train,epochs=50,batch_size=32)"
   ]
  },
  {
   "cell_type": "code",
   "execution_count": 84,
   "metadata": {
    "_uuid": "326fa85615622feb484cc4c848edeec6f7133913"
   },
   "outputs": [],
   "source": [
    "# Now to get the test set ready in a similar way as the training set.\n",
    "# The following has been done so first 60 entires of test set have 60 previous values which is \n",
    "# impossible to get unless we take the whole \n",
    "# 'High' attribute data for processing\n",
    "dataset_total = pd.concat((dataset[\"High\"][:'2016'],dataset[\"High\"]['2017':]),axis=0)\n",
    "len(dataset[\"High\"][:'2016'])\n",
    "inputs = dataset_total[len(dataset_total)-len(test_set) - 60:].values\n",
    "inputs = inputs.reshape(-1,1)\n",
    "inputs  = sc.transform(inputs)"
   ]
  },
  {
   "cell_type": "raw",
   "metadata": {},
   "source": [
    "#The above code can be analyzied via below example\n",
    "total_data =  10 20 30 40 50 60     70 80 90  --\n",
    "\n",
    "training set =  10 20 30 40 50 60\n",
    "\n",
    "let say we are predicting on lag of 2\n",
    "\n",
    "x_train         y_train\n",
    "-----------    -----------\n",
    "10 20 ---\t\t30        \n",
    "20 30 ---\t\t40\n",
    "30 40 ---       50\n",
    "40 50 ---\t\t60\n",
    "\n",
    "so in the x_test, we need the previous data to predict\n",
    "how do we calculate index where to take ?-  \n",
    "\n",
    "result = len(total data) - len(test)- len(lag)   \n",
    "take the values from index result for test data.\n",
    "\n",
    "x_test\n",
    "--------------\n",
    "50 60 - \n",
    "60 70 - \n",
    "70 80 \n",
    "80 90 \n",
    "\n",
    "The abobe method is controversial to form the test data set.\n",
    "instead of taking data from training set to build the test set, we can form data only from test set.\n",
    "\n",
    "test set data is 70 80 90 . how about we form test data as below\n",
    "\n",
    "x_test\n",
    "--------------\n",
    "70 80\n",
    "80 90\n",
    "\n",
    "here no training data is included \n",
    "\n"
   ]
  },
  {
   "cell_type": "code",
   "execution_count": 87,
   "metadata": {
    "_uuid": "435b8024814939ac4fbd372baa0cd8cfc78f80bc"
   },
   "outputs": [],
   "source": [
    "# Preparing X_test and predicting the prices\n",
    "X_test = []\n",
    "for i in range(60,311):\n",
    "    X_test.append(inputs[i-60:i,0])\n",
    "X_test = np.array(X_test)\n",
    "X_test = np.reshape(X_test, (X_test.shape[0],X_test.shape[1],1))\n",
    "predicted_stock_price = regressor.predict(X_test)\n",
    "predicted_stock_price = sc.inverse_transform(predicted_stock_price)"
   ]
  },
  {
   "cell_type": "code",
   "execution_count": 88,
   "metadata": {},
   "outputs": [
    {
     "data": {
      "text/plain": [
       "(251, 60, 1)"
      ]
     },
     "execution_count": 88,
     "metadata": {},
     "output_type": "execute_result"
    }
   ],
   "source": [
    "# len(inputs)\n",
    "X_test.shape"
   ]
  },
  {
   "cell_type": "code",
   "execution_count": 89,
   "metadata": {
    "_uuid": "b774a8e79e53eac89694cafef6b11aa99226b95f",
    "scrolled": false
   },
   "outputs": [
    {
     "data": {
      "image/png": "[encoded data removed]",
      "text/plain": [
       "<Figure size 432x288 with 1 Axes>"
      ]
     },
     "metadata": {
      "needs_background": "light"
     },
     "output_type": "display_data"
    }
   ],
   "source": [
    "# Visualizing the results for LSTM\n",
    "plot_predictions(test_set,predicted_stock_price)"
   ]
  },
  {
   "cell_type": "code",
   "execution_count": 90,
   "metadata": {
    "_uuid": "f6f6db0b6e1f17ac63c06ce49856873d98ba5f00"
   },
   "outputs": [
    {
     "name": "stdout",
     "output_type": "stream",
     "text": [
      "The root mean squared error is 6.2839732091752865.\n"
     ]
    }
   ],
   "source": [
    "# Evaluating our model\n",
    "return_rmse(test_set,predicted_stock_price)"
   ]
  },
  {
   "cell_type": "markdown",
   "metadata": {
    "_uuid": "a4cf704ab3cd091f63b7b9a1b9224a49f0913171"
   },
   "source": [
    "Truth be told. That's one awesome score. \n",
    "\n",
    "LSTM is not the only kind of unit that has taken the world of Deep Learning by a storm. We have **Gated Recurrent Units(GRU)**. It's not known, which is better: GRU or LSTM becuase they have comparable performances. GRUs are easier to train than LSTMs.\n",
    "\n",
    "## Gated Recurrent Units\n",
    "In simple words, the GRU unit does not have to use a memory unit to control the flow of information like the LSTM unit. It can directly makes use of the all hidden states without any control. GRUs have fewer parameters and thus may train a bit faster or need less data to generalize. But, with large data, the LSTMs with higher expressiveness may lead to better results.\n",
    "\n",
    "They are almost similar to LSTMs except that they have two gates: reset gate and update gate. Reset gate determines how to combine new input to previous memory and update gate determines how much of the previous state to keep. Update gate in GRU is what input gate and forget gate were in LSTM. We don't have the second non linearity in GRU before calculating the outpu, .neither they have the output gate.\n",
    "\n",
    "Source: [Quora](https://www.quora.com/Whats-the-difference-between-LSTM-and-GRU-Why-are-GRU-efficient-to-train)\n",
    "\n",
    "<img src=\"https://cdnpythonmachinelearning.azureedge.net/wp-content/uploads/2017/11/GRU.png?x31195\">"
   ]
  },
  {
   "cell_type": "code",
   "execution_count": 91,
   "metadata": {
    "_uuid": "e9b616c5112d707d16cc4b277007e286cffd58f6"
   },
   "outputs": [
    {
     "name": "stdout",
     "output_type": "stream",
     "text": [
      "Epoch 1/50\n",
      "2708/2708 [==============================] - 15s 5ms/step - loss: 0.0620\n",
      "Epoch 2/50\n",
      "2708/2708 [==============================] - 7s 2ms/step - loss: 0.0139\n",
      "Epoch 3/50\n",
      "2708/2708 [==============================] - 7s 2ms/step - loss: 0.0044\n",
      "Epoch 4/50\n",
      "2708/2708 [==============================] - 7s 2ms/step - loss: 0.0037\n",
      "Epoch 5/50\n",
      "2708/2708 [==============================] - 7s 2ms/step - loss: 0.0033\n",
      "Epoch 6/50\n",
      "2708/2708 [==============================] - 6s 2ms/step - loss: 0.0030\n",
      "Epoch 7/50\n",
      "2708/2708 [==============================] - 7s 2ms/step - loss: 0.0027\n",
      "Epoch 8/50\n",
      "2708/2708 [==============================] - 6s 2ms/step - loss: 0.0026\n",
      "Epoch 9/50\n",
      "2708/2708 [==============================] - 8s 3ms/step - loss: 0.0027\n",
      "Epoch 10/50\n",
      "2708/2708 [==============================] - 7s 2ms/step - loss: 0.0026\n",
      "Epoch 11/50\n",
      "2708/2708 [==============================] - 7s 2ms/step - loss: 0.0023\n",
      "Epoch 12/50\n",
      "2708/2708 [==============================] - 7s 2ms/step - loss: 0.0024\n",
      "Epoch 13/50\n",
      "2708/2708 [==============================] - 6s 2ms/step - loss: 0.0024\n",
      "Epoch 14/50\n",
      "2708/2708 [==============================] - 7s 3ms/step - loss: 0.0024\n",
      "Epoch 15/50\n",
      "2708/2708 [==============================] - 6s 2ms/step - loss: 0.0024\n",
      "Epoch 16/50\n",
      "2708/2708 [==============================] - 7s 2ms/step - loss: 0.0022\n",
      "Epoch 17/50\n",
      "2708/2708 [==============================] - 7s 2ms/step - loss: 0.0022\n",
      "Epoch 18/50\n",
      "2708/2708 [==============================] - 7s 2ms/step - loss: 0.0022\n",
      "Epoch 19/50\n",
      "2708/2708 [==============================] - 8s 3ms/step - loss: 0.0022\n",
      "Epoch 20/50\n",
      "2708/2708 [==============================] - 6s 2ms/step - loss: 0.0021\n",
      "Epoch 21/50\n",
      "2708/2708 [==============================] - 7s 2ms/step - loss: 0.0021\n",
      "Epoch 22/50\n",
      "2708/2708 [==============================] - 7s 2ms/step - loss: 0.0021\n",
      "Epoch 23/50\n",
      "2708/2708 [==============================] - 7s 2ms/step - loss: 0.0020\n",
      "Epoch 24/50\n",
      "2708/2708 [==============================] - 7s 3ms/step - loss: 0.0020\n",
      "Epoch 25/50\n",
      "2708/2708 [==============================] - 8s 3ms/step - loss: 0.0021\n",
      "Epoch 26/50\n",
      "2708/2708 [==============================] - 8s 3ms/step - loss: 0.0020\n",
      "Epoch 27/50\n",
      "2708/2708 [==============================] - 8s 3ms/step - loss: 0.0021\n",
      "Epoch 28/50\n",
      "2708/2708 [==============================] - 9s 3ms/step - loss: 0.0021\n",
      "Epoch 29/50\n",
      "2708/2708 [==============================] - 8s 3ms/step - loss: 0.0019\n",
      "Epoch 30/50\n",
      "2708/2708 [==============================] - 7s 3ms/step - loss: 0.0021\n",
      "Epoch 31/50\n",
      "2708/2708 [==============================] - 7s 3ms/step - loss: 0.0020\n",
      "Epoch 32/50\n",
      "2708/2708 [==============================] - 8s 3ms/step - loss: 0.0019\n",
      "Epoch 33/50\n",
      "2708/2708 [==============================] - 7s 3ms/step - loss: 0.0020\n",
      "Epoch 34/50\n",
      "2708/2708 [==============================] - 7s 3ms/step - loss: 0.0021\n",
      "Epoch 35/50\n",
      "2708/2708 [==============================] - 6s 2ms/step - loss: 0.0019\n",
      "Epoch 36/50\n",
      "2708/2708 [==============================] - 6s 2ms/step - loss: 0.0019\n",
      "Epoch 37/50\n",
      "2708/2708 [==============================] - 8s 3ms/step - loss: 0.0019\n",
      "Epoch 38/50\n",
      "2708/2708 [==============================] - 8s 3ms/step - loss: 0.0018\n",
      "Epoch 39/50\n",
      "2708/2708 [==============================] - 7s 3ms/step - loss: 0.0018\n",
      "Epoch 40/50\n",
      "2708/2708 [==============================] - 8s 3ms/step - loss: 0.0018\n",
      "Epoch 41/50\n",
      "2708/2708 [==============================] - 7s 3ms/step - loss: 0.0018\n",
      "Epoch 42/50\n",
      "2708/2708 [==============================] - 7s 2ms/step - loss: 0.0018\n",
      "Epoch 43/50\n",
      "2708/2708 [==============================] - 7s 2ms/step - loss: 0.0017\n",
      "Epoch 44/50\n",
      "2708/2708 [==============================] - 6s 2ms/step - loss: 0.0018\n",
      "Epoch 45/50\n",
      "2708/2708 [==============================] - 7s 2ms/step - loss: 0.0018\n",
      "Epoch 46/50\n",
      "2708/2708 [==============================] - 9s 3ms/step - loss: 0.0019\n",
      "Epoch 47/50\n",
      "2708/2708 [==============================] - 7s 3ms/step - loss: 0.0018\n",
      "Epoch 48/50\n",
      "2708/2708 [==============================] - 7s 3ms/step - loss: 0.0017\n",
      "Epoch 49/50\n",
      "2708/2708 [==============================] - 7s 3ms/step - loss: 0.0019\n",
      "Epoch 50/50\n",
      "2708/2708 [==============================] - 7s 3ms/step - loss: 0.0018\n"
     ]
    },
    {
     "data": {
      "text/plain": [
       "<keras.callbacks.History at 0x1642a0517f0>"
      ]
     },
     "execution_count": 91,
     "metadata": {},
     "output_type": "execute_result"
    }
   ],
   "source": [
    "# The GRU architecture\n",
    "regressorGRU = Sequential()\n",
    "# First GRU layer with Dropout regularisation\n",
    "regressorGRU.add(GRU(units=50, return_sequences=True, input_shape=(X_train.shape[1],1),\n",
    "                     activation='tanh'))\n",
    "regressorGRU.add(Dropout(0.2))\n",
    "# Second GRU layer\n",
    "regressorGRU.add(GRU(units=50, return_sequences=True, input_shape=(X_train.shape[1],1),\n",
    "                     activation='tanh'))\n",
    "regressorGRU.add(Dropout(0.2))\n",
    "# Third GRU layer\n",
    "regressorGRU.add(GRU(units=50, return_sequences=True, input_shape=(X_train.shape[1],1),\n",
    "                     activation='tanh'))\n",
    "regressorGRU.add(Dropout(0.2))\n",
    "# Fourth GRU layer\n",
    "regressorGRU.add(GRU(units=50, activation='tanh'))\n",
    "regressorGRU.add(Dropout(0.2))\n",
    "# The output layer\n",
    "regressorGRU.add(Dense(units=1))\n",
    "# Compiling the RNN\n",
    "regressorGRU.compile(optimizer=SGD(lr=0.01, decay=1e-7, momentum=0.9, nesterov=False),\n",
    "                     loss='mean_squared_error')\n",
    "# Fitting to the training set\n",
    "regressorGRU.fit(X_train,y_train,epochs=50,batch_size=150)"
   ]
  },
  {
   "cell_type": "markdown",
   "metadata": {
    "_kg_hide-input": false,
    "_uuid": "98628386f141545aa77d70f48478ac82bd9c1608"
   },
   "source": [
    "The current version version uses a dense GRU network with 100 units as opposed to the GRU network with 50 units in previous version"
   ]
  },
  {
   "cell_type": "code",
   "execution_count": 92,
   "metadata": {
    "_uuid": "f20ca021ea3ce05f6c6a98db93775f1b2c9c022c"
   },
   "outputs": [],
   "source": [
    "# Preparing X_test and predicting the prices\n",
    "X_test = []\n",
    "for i in range(60,311):\n",
    "    X_test.append(inputs[i-60:i,0])\n",
    "X_test = np.array(X_test)\n",
    "X_test = np.reshape(X_test, (X_test.shape[0],X_test.shape[1],1))\n",
    "GRU_predicted_stock_price = regressorGRU.predict(X_test)\n",
    "GRU_predicted_stock_price = sc.inverse_transform(GRU_predicted_stock_price)"
   ]
  },
  {
   "cell_type": "code",
   "execution_count": 93,
   "metadata": {
    "_uuid": "da8e9fa28510aa03e7dd06d5070d7b16e05ebb6e"
   },
   "outputs": [
    {
     "data": {
      "image/png": "[encoded data removed]",
      "text/plain": [
       "<Figure size 432x288 with 1 Axes>"
      ]
     },
     "metadata": {
      "needs_background": "light"
     },
     "output_type": "display_data"
    }
   ],
   "source": [
    "# Visualizing the results for GRU\n",
    "plot_predictions(test_set,GRU_predicted_stock_price)"
   ]
  },
  {
   "cell_type": "code",
   "execution_count": 94,
   "metadata": {
    "_uuid": "23aec5ab1a717e3458c8d5cae68db0e7add091ae"
   },
   "outputs": [
    {
     "name": "stdout",
     "output_type": "stream",
     "text": [
      "The root mean squared error is 3.0179741015289796.\n"
     ]
    }
   ],
   "source": [
    "# Evaluating GRU\n",
    "return_rmse(test_set,GRU_predicted_stock_price)"
   ]
  },
  {
   "cell_type": "markdown",
   "metadata": {
    "_uuid": "3aa099ecc057f972525df4c7ef4209744d27106a"
   },
   "source": [
    "## Sequence Generation\n",
    "Here, I will generate a sequence using just initial 60 values instead of using last 60 values for every new prediction. **Due to doubts in various comments about predictions making use of test set values, I have decided to include sequence generation.** The above models make use of test set so it is using last 60 true values for predicting the new value(I will call it a benchmark). This is why the error is so low. Strong models can bring similar results like above models for sequences too but they require more than just data which has previous values. In case of stocks, we need to know the sentiments of the market, the movement of other stocks and a lot more. So, don't expect a remotely accurate plot. The error will be great and the best I can do is generate the trend similar to the test set.\n",
    "\n",
    "I will use GRU model for predictions. You can try this using LSTMs also. I have modified GRU model above to get the best sequence possible. I have run the model four times and two times I got error of around 8 to 9. The worst case had an error of around 11. Let's see what this iterations.\n",
    "\n",
    "The GRU model in the previous versions is fine too. Just a little tweaking was required to get good sequences. **The main goal of this kernel is to show how to build RNN models. How you predict data and what kind of data you predict is up to you. I can't give you some 100 lines of code where you put the destination of training and test set and get world-class results. That's something you have to do yourself.**"
   ]
  },
  {
   "cell_type": "code",
   "execution_count": 96,
   "metadata": {},
   "outputs": [
    {
     "data": {
      "text/plain": [
       "2708"
      ]
     },
     "execution_count": 96,
     "metadata": {},
     "output_type": "execute_result"
    }
   ],
   "source": [
    "len(X_train)"
   ]
  },
  {
   "cell_type": "code",
   "execution_count": 97,
   "metadata": {
    "_uuid": "2949de3c668a788117221000567aaa7033cd1a17"
   },
   "outputs": [],
   "source": [
    "# Preparing sequence data\n",
    "initial_sequence = X_train[2708,:]\n",
    "sequence = []\n",
    "for i in range(251):\n",
    "    new_prediction = regressorGRU.predict(initial_sequence.reshape(initial_sequence.shape[1],\n",
    "                                                                   initial_sequence.shape[0],1))\n",
    "    initial_sequence = initial_sequence[1:]\n",
    "    initial_sequence = np.append(initial_sequence,new_prediction,axis=0)\n",
    "    sequence.append(new_prediction)\n",
    "sequence = sc.inverse_transform(np.array(sequence).reshape(251,1))"
   ]
  },
  {
   "cell_type": "code",
   "execution_count": null,
   "metadata": {
    "_uuid": "be390cade0cf4b31cb99e069570e1be2c5594c8b"
   },
   "outputs": [],
   "source": [
    "# Visualizing the sequence\n",
    "plot_predictions(test_set,sequence)"
   ]
  },
  {
   "cell_type": "code",
   "execution_count": null,
   "metadata": {
    "_uuid": "59095a00a05a68b97d76fc13bb2d618c337e1c80"
   },
   "outputs": [],
   "source": [
    "# Evaluating the sequence\n",
    "return_rmse(test_set,sequence)"
   ]
  },
  {
   "cell_type": "markdown",
   "metadata": {
    "_uuid": "c1003e9a17b23c1e3c7b7298250f8b071a93ae91"
   },
   "source": [
    "So, GRU works better than LSTM in this case. Bidirectional LSTM is also a good way so make the model stronger. But this may vary for different data sets. **Applying both LSTM and GRU together gave even better results.** "
   ]
  }
 ],
 "metadata": {
  "kernelspec": {
   "display_name": "Python 3",
   "language": "python",
   "name": "python3"
  },
  "language_info": {
   "codemirror_mode": {
    "name": "ipython",
    "version": 3
   },
   "file_extension": ".py",
   "mimetype": "text/x-python",
   "name": "python",
   "nbconvert_exporter": "python",
   "pygments_lexer": "ipython3",
   "version": "3.7.1"
  }
 },
 "nbformat": 4,
 "nbformat_minor": 1
}
